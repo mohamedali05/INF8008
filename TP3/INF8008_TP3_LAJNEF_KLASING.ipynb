{
 "cells": [
  {
   "cell_type": "markdown",
   "metadata": {
    "id": "th8R6iFhsz79"
   },
   "source": [
    "\n",
    "\n",
    "## <center> Polytechnique Montréal <br> Département Génie Informatique et Génie Logiciel <br>  INF8008 – Prétraitement de données <br> . <br> TP3  - Échantillonnage et imputations <br>  Hiver 2025 <br> . <br> 17 février 2025 </center>"
   ]
  },
  {
   "cell_type": "markdown",
   "metadata": {
    "id": "4-uCAmWYtjG8"
   },
   "source": [
    "## Introduction\n",
    "\n",
    "Le TP3 porte principalement sur l'échantillonnage et l'imputation, mais nous aborderons tout de même l'agrégation, la tabulation, le remodelage, le pivotement et les statistiques descriptives.  <b> Nous survolons l'utilisation de fonctions de base de Pandas et de l'analyse de données numériques. </b>\n",
    "\n",
    "Dans ce travail, vous aurez à utiliser les données des deux fichiers .csv suivants :\n",
    "\n",
    " - <b> appointments.csv </b> : Matrice de données de 100 000 rendez-vous faits par 943 patients et portant sur 1682 docteurs;\n",
    " - <b> patients.csv </b> : Matrice de données sur les patients.\n",
    "\n",
    "Ces données ont été générées synthétiquement par un grand modèle de langage pour approximer les interactions réelles dans le domaine des soins de santé tout en garantissant la confidentialité des données.\n",
    "\n"
   ]
  },
  {
   "cell_type": "markdown",
   "metadata": {
    "id": "jSAmD2Iuuxds"
   },
   "source": [
    "Voici les librairies python qui seront à utiliser pour ce TP :\n",
    "- [matplotlib](https://matplotlib.org/stable/users/explain/quick_start.html)\n",
    "- [numpy](https://numpy.org/doc/stable/user/basics.html)\n",
    "- [pandas](https://pandas.pydata.org/docs/user_guide/index.html)\n",
    "\n",
    "\n",
    "\n"
   ]
  },
  {
   "cell_type": "code",
   "execution_count": 142,
   "metadata": {
    "ExecuteTime": {
     "end_time": "2025-02-25T20:10:34.108114Z",
     "start_time": "2025-02-25T20:10:34.106594100Z"
    },
    "id": "Yowt8NL4v29E"
   },
   "outputs": [],
   "source": [
    "import pandas as pd\n",
    "import numpy as np"
   ]
  },
  {
   "cell_type": "code",
   "execution_count": 143,
   "metadata": {
    "ExecuteTime": {
     "end_time": "2025-02-25T20:15:24.287355700Z",
     "start_time": "2025-02-25T20:15:24.242254800Z"
    },
    "id": "pVLjUZbts_z6"
   },
   "outputs": [],
   "source": [
    "df_appointments = pd.read_csv('appointments.csv')\n",
    "df_patients = pd.read_csv('patients.csv')"
   ]
  },
  {
   "cell_type": "code",
   "execution_count": 144,
   "metadata": {
    "ExecuteTime": {
     "end_time": "2025-02-25T20:15:26.188310600Z",
     "start_time": "2025-02-25T20:15:26.161370200Z"
    },
    "collapsed": false,
    "jupyter": {
     "outputs_hidden": false
    }
   },
   "outputs": [
    {
     "data": {
      "text/html": [
       "<div>\n",
       "<style scoped>\n",
       "    .dataframe tbody tr th:only-of-type {\n",
       "        vertical-align: middle;\n",
       "    }\n",
       "\n",
       "    .dataframe tbody tr th {\n",
       "        vertical-align: top;\n",
       "    }\n",
       "\n",
       "    .dataframe thead th {\n",
       "        text-align: right;\n",
       "    }\n",
       "</style>\n",
       "<table border=\"1\" class=\"dataframe\">\n",
       "  <thead>\n",
       "    <tr style=\"text-align: right;\">\n",
       "      <th></th>\n",
       "      <th>id</th>\n",
       "      <th>age</th>\n",
       "      <th>gender</th>\n",
       "      <th>condition</th>\n",
       "      <th>zip</th>\n",
       "    </tr>\n",
       "  </thead>\n",
       "  <tbody>\n",
       "    <tr>\n",
       "      <th>0</th>\n",
       "      <td>1</td>\n",
       "      <td>24</td>\n",
       "      <td>F</td>\n",
       "      <td>Healthy</td>\n",
       "      <td>85711</td>\n",
       "    </tr>\n",
       "    <tr>\n",
       "      <th>1</th>\n",
       "      <td>2</td>\n",
       "      <td>54</td>\n",
       "      <td>M</td>\n",
       "      <td>Diabetes</td>\n",
       "      <td>94043</td>\n",
       "    </tr>\n",
       "    <tr>\n",
       "      <th>2</th>\n",
       "      <td>3</td>\n",
       "      <td>69</td>\n",
       "      <td>M</td>\n",
       "      <td>Healthy</td>\n",
       "      <td>32067</td>\n",
       "    </tr>\n",
       "    <tr>\n",
       "      <th>3</th>\n",
       "      <td>4</td>\n",
       "      <td>43</td>\n",
       "      <td>M</td>\n",
       "      <td>Diabetes</td>\n",
       "      <td>43537</td>\n",
       "    </tr>\n",
       "    <tr>\n",
       "      <th>4</th>\n",
       "      <td>5</td>\n",
       "      <td>44</td>\n",
       "      <td>M</td>\n",
       "      <td>Hypertension</td>\n",
       "      <td>15213</td>\n",
       "    </tr>\n",
       "    <tr>\n",
       "      <th>...</th>\n",
       "      <td>...</td>\n",
       "      <td>...</td>\n",
       "      <td>...</td>\n",
       "      <td>...</td>\n",
       "      <td>...</td>\n",
       "    </tr>\n",
       "    <tr>\n",
       "      <th>938</th>\n",
       "      <td>939</td>\n",
       "      <td>71</td>\n",
       "      <td>M</td>\n",
       "      <td>Healthy</td>\n",
       "      <td>33319</td>\n",
       "    </tr>\n",
       "    <tr>\n",
       "      <th>939</th>\n",
       "      <td>940</td>\n",
       "      <td>33</td>\n",
       "      <td>F</td>\n",
       "      <td>Diabetes</td>\n",
       "      <td>2215</td>\n",
       "    </tr>\n",
       "    <tr>\n",
       "      <th>940</th>\n",
       "      <td>941</td>\n",
       "      <td>20</td>\n",
       "      <td>M</td>\n",
       "      <td>Asthma</td>\n",
       "      <td>97229</td>\n",
       "    </tr>\n",
       "    <tr>\n",
       "      <th>941</th>\n",
       "      <td>942</td>\n",
       "      <td>76</td>\n",
       "      <td>M</td>\n",
       "      <td>Diabetes</td>\n",
       "      <td>78209</td>\n",
       "    </tr>\n",
       "    <tr>\n",
       "      <th>942</th>\n",
       "      <td>943</td>\n",
       "      <td>78</td>\n",
       "      <td>F</td>\n",
       "      <td>Diabetes</td>\n",
       "      <td>77841</td>\n",
       "    </tr>\n",
       "  </tbody>\n",
       "</table>\n",
       "<p>943 rows × 5 columns</p>\n",
       "</div>"
      ],
      "text/plain": [
       "      id  age gender     condition    zip\n",
       "0      1   24      F       Healthy  85711\n",
       "1      2   54      M      Diabetes  94043\n",
       "2      3   69      M       Healthy  32067\n",
       "3      4   43      M      Diabetes  43537\n",
       "4      5   44      M  Hypertension  15213\n",
       "..   ...  ...    ...           ...    ...\n",
       "938  939   71      M       Healthy  33319\n",
       "939  940   33      F      Diabetes   2215\n",
       "940  941   20      M        Asthma  97229\n",
       "941  942   76      M      Diabetes  78209\n",
       "942  943   78      F      Diabetes  77841\n",
       "\n",
       "[943 rows x 5 columns]"
      ]
     },
     "execution_count": 144,
     "metadata": {},
     "output_type": "execute_result"
    }
   ],
   "source": [
    "df_patients"
   ]
  },
  {
   "cell_type": "code",
   "execution_count": 145,
   "metadata": {
    "ExecuteTime": {
     "end_time": "2025-02-25T20:15:28.341950200Z",
     "start_time": "2025-02-25T20:15:28.313910Z"
    },
    "colab": {
     "base_uri": "https://localhost:8080/",
     "height": 424
    },
    "id": "3q1QiA8zOcuV",
    "outputId": "e990a6e9-5b02-4b60-9ef4-4f37ab1cc018"
   },
   "outputs": [
    {
     "data": {
      "text/html": [
       "<div>\n",
       "<style scoped>\n",
       "    .dataframe tbody tr th:only-of-type {\n",
       "        vertical-align: middle;\n",
       "    }\n",
       "\n",
       "    .dataframe tbody tr th {\n",
       "        vertical-align: top;\n",
       "    }\n",
       "\n",
       "    .dataframe thead th {\n",
       "        text-align: right;\n",
       "    }\n",
       "</style>\n",
       "<table border=\"1\" class=\"dataframe\">\n",
       "  <thead>\n",
       "    <tr style=\"text-align: right;\">\n",
       "      <th></th>\n",
       "      <th>patient.id</th>\n",
       "      <th>doctor.id</th>\n",
       "      <th>niveau.recommandation</th>\n",
       "      <th>date</th>\n",
       "    </tr>\n",
       "  </thead>\n",
       "  <tbody>\n",
       "    <tr>\n",
       "      <th>0</th>\n",
       "      <td>938</td>\n",
       "      <td>588</td>\n",
       "      <td>4</td>\n",
       "      <td>2021-01-15</td>\n",
       "    </tr>\n",
       "    <tr>\n",
       "      <th>1</th>\n",
       "      <td>81</td>\n",
       "      <td>1083</td>\n",
       "      <td>4</td>\n",
       "      <td>2021-11-26</td>\n",
       "    </tr>\n",
       "    <tr>\n",
       "      <th>2</th>\n",
       "      <td>890</td>\n",
       "      <td>1144</td>\n",
       "      <td>2</td>\n",
       "      <td>2021-05-05</td>\n",
       "    </tr>\n",
       "    <tr>\n",
       "      <th>3</th>\n",
       "      <td>428</td>\n",
       "      <td>18</td>\n",
       "      <td>5</td>\n",
       "      <td>2021-06-09</td>\n",
       "    </tr>\n",
       "    <tr>\n",
       "      <th>4</th>\n",
       "      <td>483</td>\n",
       "      <td>1130</td>\n",
       "      <td>5</td>\n",
       "      <td>2021-01-26</td>\n",
       "    </tr>\n",
       "    <tr>\n",
       "      <th>...</th>\n",
       "      <td>...</td>\n",
       "      <td>...</td>\n",
       "      <td>...</td>\n",
       "      <td>...</td>\n",
       "    </tr>\n",
       "    <tr>\n",
       "      <th>96943</th>\n",
       "      <td>351</td>\n",
       "      <td>435</td>\n",
       "      <td>4</td>\n",
       "      <td>2021-01-12</td>\n",
       "    </tr>\n",
       "    <tr>\n",
       "      <th>96944</th>\n",
       "      <td>187</td>\n",
       "      <td>1246</td>\n",
       "      <td>3</td>\n",
       "      <td>2021-01-05</td>\n",
       "    </tr>\n",
       "    <tr>\n",
       "      <th>96945</th>\n",
       "      <td>748</td>\n",
       "      <td>560</td>\n",
       "      <td>5</td>\n",
       "      <td>2021-06-16</td>\n",
       "    </tr>\n",
       "    <tr>\n",
       "      <th>96946</th>\n",
       "      <td>285</td>\n",
       "      <td>1429</td>\n",
       "      <td>3</td>\n",
       "      <td>2021-05-14</td>\n",
       "    </tr>\n",
       "    <tr>\n",
       "      <th>96947</th>\n",
       "      <td>817</td>\n",
       "      <td>923</td>\n",
       "      <td>3</td>\n",
       "      <td>2021-10-15</td>\n",
       "    </tr>\n",
       "  </tbody>\n",
       "</table>\n",
       "<p>96948 rows × 4 columns</p>\n",
       "</div>"
      ],
      "text/plain": [
       "       patient.id  doctor.id  niveau.recommandation        date\n",
       "0             938        588                      4  2021-01-15\n",
       "1              81       1083                      4  2021-11-26\n",
       "2             890       1144                      2  2021-05-05\n",
       "3             428         18                      5  2021-06-09\n",
       "4             483       1130                      5  2021-01-26\n",
       "...           ...        ...                    ...         ...\n",
       "96943         351        435                      4  2021-01-12\n",
       "96944         187       1246                      3  2021-01-05\n",
       "96945         748        560                      5  2021-06-16\n",
       "96946         285       1429                      3  2021-05-14\n",
       "96947         817        923                      3  2021-10-15\n",
       "\n",
       "[96948 rows x 4 columns]"
      ]
     },
     "execution_count": 145,
     "metadata": {},
     "output_type": "execute_result"
    }
   ],
   "source": [
    "df_appointments"
   ]
  },
  {
   "cell_type": "markdown",
   "metadata": {
    "id": "6zP9EwsKve8l"
   },
   "source": [
    "## Prédiction de recommendations par factorisation de matrice\n",
    "<b> Mise en contexte : </b>\n",
    "\n",
    "Un principe fondamental des systèmes de recommandations est de prédire les rendez-vous des patients aux docteurs qui n’ont pas encore de rendez-vous et sont présumés des candidats à recommander. On recommande alors les docteurs dont les rendez-vous estimés sont les plus élevés. Une méthode très facile à implémenter consiste à factoriser une matrice de rendez-vous dans un espace à dimensions réduites puis à effectuer le produit des matrices factorisées. Ce produit constitue la prédiction des rendez-vous sur la base de réduction de dimensions.\n",
    "\n",
    "Le fichier appointments.csv contient 100 000 rendez-vous de 943 patients pour 1682 docteurs. Il faut, dans un premier temps, créer cette matrice et ensuite la factoriser en un produit de matrices dont le rang est plus petit. Mais la matrice originale contient un grand nombre de valeurs manquantes et il est nécessaire d’effectuer une imputation avant la factorisation par des méthodes analytiques, notamment la méthode de décomposition en valeurs singulières que nous utiliserons (SVD).\n",
    "\n",
    "De plus, il faut aussi effectuer une validation croisée afin de déterminer le bon nombre dimensions pour la factorisation ainsi que s’il est préférable de faire une imputation de valeurs aléatoires, de la moyenne des lignes, ou de la moyenne des lignes et des colonnes.\n",
    "\n",
    "### A)\n",
    "Mettez les données de \"df_appointments\" sous la forme d'une matrice de rendez-vous patients $\\times$ docteurs. <b>(1.5 points)</b>\n",
    "\n",
    "Pour ce faire:\n",
    "1. Retirez la colonne \"date\" du DataFrame \"df_appointments\".\n",
    "2. Triez les données par \"patient.id\" et \"doctor.id\".\n",
    "3. Regroupez les données par \"patient.id\" et faites l'agrégation des \"niveau.recommandation\" pour chaque \"doctor.id\".\n",
    "4. Convertissez en matrice.\n",
    "\n",
    "Affichez les dimensions de la matrice, celle-ci devrait être de \"shape\" (943, 1682)."
   ]
  },
  {
   "cell_type": "code",
   "execution_count": 146,
   "metadata": {
    "ExecuteTime": {
     "end_time": "2025-02-25T20:10:36.002291600Z",
     "start_time": "2025-02-25T20:10:35.939817900Z"
    },
    "id": "6JJzhtUMyzuC"
   },
   "outputs": [],
   "source": [
    "#TODO: Nomez votre matrice R, pour bien continuer le reste.\n",
    "df_appointments.drop(columns=['date'] , inplace=True) \n",
    "df_appointments.sort_values(by=['patient.id' , 'doctor.id'] , inplace=True)\n",
    "df_appointments = df_appointments.groupby([\"patient.id\", \"doctor.id\"])[\"niveau.recommandation\"].mean().unstack()\n",
    "appointments_matrix = df_appointments.to_numpy()"
   ]
  },
  {
   "cell_type": "code",
   "execution_count": 147,
   "metadata": {
    "ExecuteTime": {
     "end_time": "2025-02-25T20:10:36.550502900Z",
     "start_time": "2025-02-25T20:10:36.534666300Z"
    },
    "collapsed": false,
    "jupyter": {
     "outputs_hidden": false
    }
   },
   "outputs": [
    {
     "data": {
      "text/plain": [
       "(943, 1682)"
      ]
     },
     "execution_count": 147,
     "metadata": {},
     "output_type": "execute_result"
    }
   ],
   "source": [
    "appointments_matrix.shape"
   ]
  },
  {
   "cell_type": "code",
   "execution_count": 148,
   "metadata": {
    "ExecuteTime": {
     "end_time": "2025-02-25T20:10:41.878209100Z",
     "start_time": "2025-02-25T20:10:41.862247400Z"
    },
    "collapsed": false,
    "jupyter": {
     "outputs_hidden": false
    }
   },
   "outputs": [
    {
     "data": {
      "text/plain": [
       "array([[nan,  5., nan, ..., nan, nan, nan],\n",
       "       [nan, nan, nan, ..., nan, nan, nan],\n",
       "       [ 1., nan,  2., ..., nan, nan, nan],\n",
       "       ...,\n",
       "       [nan,  2., nan, ..., nan, nan, nan],\n",
       "       [nan, nan, nan, ..., nan, nan,  5.],\n",
       "       [nan, nan,  4., ..., nan, nan, nan]])"
      ]
     },
     "execution_count": 148,
     "metadata": {},
     "output_type": "execute_result"
    }
   ],
   "source": [
    "appointments_matrix"
   ]
  },
  {
   "cell_type": "markdown",
   "metadata": {
    "id": "Pn_swMkLvhWE"
   },
   "source": [
    "\n",
    "### B)\n",
    "Pour factoriser une matrice, elle ne doit contenir aucune valeur manquante.  Imputez (remplacez) les valeurs manquantes (valeurs non observées) dans la matrice créée précédemment selon les trois méthodes suivantes : <b>(2.5 points)</b>  \n",
    "1. Remplacer les \"nan\" par des valeurs aléatoires d'une distribution normale (0,1).\n",
    "2. Remplacer les \"nan\" par la moyenne des lignes.\n",
    "3. Remplacer les \"nan\" par la moyenne des lignes et colonnes.\n",
    "\n",
    "Affichez la matrice obtenue pour chaque méthode.\n",
    "\n"
   ]
  },
  {
   "cell_type": "code",
   "execution_count": 149,
   "metadata": {
    "ExecuteTime": {
     "end_time": "2025-02-25T21:07:58.060500100Z",
     "start_time": "2025-02-25T21:07:57.987977300Z"
    },
    "id": "5oST8x2-vfQh"
   },
   "outputs": [
    {
     "name": "stdout",
     "output_type": "stream",
     "text": [
      "Méthode 1: \n",
      " [[-0.60894317  5.         -1.32532611 ...  1.39706724  0.48431936\n",
      "  -1.43831717]\n",
      " [ 0.2909121  -0.24293606  0.62810394 ...  0.73675313 -0.99506276\n",
      "   0.60893877]\n",
      " [ 1.         -0.58573564  2.         ...  1.26055561  0.97775533\n",
      "   0.30358563]\n",
      " ...\n",
      " [ 0.36883203  2.         -0.89736842 ... -1.17563783  0.9331452\n",
      "  -1.38951075]\n",
      " [-1.34532143  1.28741392  1.77720317 ... -1.27947438  0.41018696\n",
      "   5.        ]\n",
      " [ 1.53964724 -1.38898904  4.         ...  0.72469586  0.34527541\n",
      "  -1.19259502]]\n",
      "Méthode 2: \n",
      " [[3.35185185 5.         3.35185185 ... 3.35185185 3.35185185 3.35185185]\n",
      " [2.78431373 2.78431373 2.78431373 ... 2.78431373 2.78431373 2.78431373]\n",
      " [1.         2.70873786 2.         ... 2.70873786 2.70873786 2.70873786]\n",
      " ...\n",
      " [2.95614035 2.         2.95614035 ... 2.95614035 2.95614035 2.95614035]\n",
      " [3.18691589 3.18691589 3.18691589 ... 3.18691589 3.18691589 5.        ]\n",
      " [3.07526882 3.07526882 4.         ... 3.07526882 3.07526882 3.07526882]]\n",
      "Méthode 3: \n",
      " [[3.33956229 5.         3.02592593 ... 3.21829881 3.11823362 3.05328442]\n",
      " [3.05579323 2.68215686 2.74215686 ... 2.93452974 2.83446456 2.76951535]\n",
      " [1.         2.64436893 2.         ... 2.89674181 2.79667662 2.73172742]\n",
      " ...\n",
      " [3.14170654 2.         2.82807018 ... 3.02044306 2.92037787 2.85542867]\n",
      " [3.25709431 2.88345794 2.94345794 ... 3.13583083 3.03576564 5.        ]\n",
      " [3.20127077 2.82763441 4.         ... 3.08000729 2.9799421  2.9149929 ]]\n"
     ]
    }
   ],
   "source": [
    "#nan_mask = np.isnan(R)\n",
    "#valeursObservees = ~np.isnan(R)\n",
    "\n",
    "#TODO:\n",
    "\n",
    "# Method 1: Remplacer les \"nan\" par des valeurs aléatoires d'une distribution Normale (0,1)\n",
    "# Copie de la matrice pour éviter de modifier l'originale\n",
    "matrix_random = appointments_matrix.copy()\n",
    "\n",
    "# Remplacement des NaN par des valeurs aléatoires N(0,1)\n",
    "random_values = np.random.randn(*matrix_random.shape)  # Génération de valeurs aléatoires\n",
    "matrix_random = np.where(np.isnan(matrix_random), random_values, matrix_random)\n",
    "\n",
    "print(f\"Méthode 1: \\n {matrix_random}\" )\n",
    "\n",
    "# Method 2: Remplacer les \"nan\" par la moyenne des lignes\n",
    "row_mean = np.nanmean(appointments_matrix , axis = 1 , keepdims=True)\n",
    "matrix_row_mean = np.where(np.isnan(appointments_matrix), row_mean, appointments_matrix)\n",
    "print(f\"Méthode 2: \\n {matrix_row_mean}\" )\n",
    "\n",
    "# Method 3: Remplacer les \"nan\" par la moyenne des lignes et colonnes\n",
    "col_mean = np.nanmean(appointments_matrix , axis = 0 , keepdims=True)\n",
    "matrix_col_mean = np.where(np.isnan(appointments_matrix), col_mean, appointments_matrix)\n",
    "matrix_row_col_mean = (matrix_col_mean + matrix_row_mean ) /2\n",
    "print(f\"Méthode 3: \\n {matrix_row_col_mean}\" )"
   ]
  },
  {
   "cell_type": "markdown",
   "metadata": {
    "id": "a43M_-VLZ-eB"
   },
   "source": [
    "### C)\n",
    "\n",
    "<b> Mise en contexte: </b>\n",
    "\n",
    "Il faut maintenant effectuer une validation croisée à 5 replis en échantillonnant aléatoirement 5 ensembles de rendez-vous parmi les 100 000 rendez-vous observés qui serviront tour à tour d’ensemble de test, les autres étant utilisées pour l’entraînement (estimation des matrices de factorisation).\n",
    "\n",
    "Pour ce faire, utilisez la fonction <code>validation_croisee_replis()</code> qui effectue une validation croisée par replis de la factorisation SVD et retourne l’erreur quadratique moyenne. Elle utilise une matrice, <code>echantillonReplis</code>, dont chaque ligne contient l’indice des observations de test pour chaque \"replis\" et qui est créée plus loin.\n",
    "\n",
    "Utilisez la variable <code>valeurs_observees</code> (obtenue à l'aide de la matrice créer dans la partie \"A\" ci-dessus) et la fonction <code>random.choice()</code> de numpy.\n",
    "\n",
    "Affichez les dimensions de l'échantillon, vous devriez avoir (5, 19389). <b> (1 point) </b>\n"
   ]
  },
  {
   "cell_type": "code",
   "execution_count": 150,
   "metadata": {
    "ExecuteTime": {
     "end_time": "2025-02-25T03:59:42.503136800Z",
     "start_time": "2025-02-25T03:59:42.253240200Z"
    },
    "id": "F9W1kpUqlABV"
   },
   "outputs": [],
   "source": [
    "from validation_croisee import validation_croisee_replis, validation_croisee"
   ]
  },
  {
   "cell_type": "code",
   "execution_count": 151,
   "metadata": {
    "ExecuteTime": {
     "end_time": "2025-02-25T21:37:13.961609Z",
     "start_time": "2025-02-25T21:37:12.479567400Z"
    },
    "id": "IhyVILpNLj57"
   },
   "outputs": [
    {
     "name": "stdout",
     "output_type": "stream",
     "text": [
      "Dimensions de echantillonReplis : (5, 19389)\n"
     ]
    }
   ],
   "source": [
    "n_dimensions = 14\n",
    "nombre_replis = 5\n",
    "valeurs_observees = ~np.isnan(appointments_matrix)\n",
    "#valeurs_observees = np.argwhere(~np.isnan(appointments_matrix))\n",
    "\n",
    "indices_observations = np.flatnonzero(valeurs_observees)\n",
    "#indices_observations = np.arange(96948)\n",
    "#np.random.shuffle(indices_observations)  # Mélanger les indices\n",
    "echantillonReplis = np.array_split(indices_observations, nombre_replis) \n",
    "#print(\"Dimensions de echantillonReplis :\", len(echantillonReplis))  \n",
    "\n",
    "echantillonReplis = np.array([np.random.choice(repli, 19389, replace=False) for repli in echantillonReplis])\n",
    "\n",
    "# Vérification des dimensions\n",
    "print(\"Dimensions de echantillonReplis :\", echantillonReplis.shape)  # Devrait afficher (5, 19389)\n",
    "\n",
    "\n",
    "\n"
   ]
  },
  {
   "cell_type": "code",
   "execution_count": 152,
   "metadata": {
    "ExecuteTime": {
     "end_time": "2025-02-25T21:19:03.365004500Z",
     "start_time": "2025-02-25T21:19:03.350309500Z"
    },
    "collapsed": false,
    "jupyter": {
     "outputs_hidden": false
    }
   },
   "outputs": [
    {
     "data": {
      "text/plain": [
       "array([[ 312899,   55952,  306484, ...,   12442,  152304,   41546],\n",
       "       [ 362680,  492218,  617813, ...,  499808,  337159,  392983],\n",
       "       [ 633350,  748016,  856987, ...,  883942,  667383,  679256],\n",
       "       [1211335, 1074054, 1235476, ...,  981199, 1105418, 1262525],\n",
       "       [1334678, 1320206, 1335637, ..., 1479205, 1494182, 1379819]],\n",
       "      dtype=int64)"
      ]
     },
     "execution_count": 152,
     "metadata": {},
     "output_type": "execute_result"
    }
   ],
   "source": [
    "echantillonReplis = np.array([np.random.choice(repli, 19389, replace=False) for repli in echantillonReplis])\n",
    "\n",
    "echantillonReplis"
   ]
  },
  {
   "cell_type": "markdown",
   "metadata": {
    "id": "U_a-rkWVEdPz"
   },
   "source": [
    "### D)\n",
    "\n",
    "Pour chacune des 3 méthodes d'imputation utilisées précédemment, affichez le résultat de la validation croisée. <b> (0.5 point) </b>\n",
    "\n",
    "Les résultats qui seront affichés pour chaque méthode devraient être similaire à ceux-ci:\n",
    "1. Méthode 1 : array([3.07936543 2.97096366 3.00239858 2.98364498 3.07552508]).\n",
    "\n",
    "2. Méthode 2 : array([1.35600187 1.36579327 1.37056779 1.35480193 1.3561739]).\n",
    "\n",
    "3. Méthode 3 : array([1.34846446 1.36657222 1.3627661  1.3456932  1.34794998]).\n"
   ]
  },
  {
   "cell_type": "code",
   "execution_count": 164,
   "metadata": {
    "ExecuteTime": {
     "end_time": "2025-02-25T21:37:55.795434100Z",
     "start_time": "2025-02-25T21:37:54.196350300Z"
    },
    "id": "2aza_6nOt3hH"
   },
   "outputs": [],
   "source": [
    "#TODO: Méthode 1\n",
    "method1_results = validation_croisee_replis(appointments_matrix , matrix_random, echantillonReplis, valeurs_observees, n_dimensions)"
   ]
  },
  {
   "cell_type": "code",
   "execution_count": 165,
   "metadata": {
    "ExecuteTime": {
     "end_time": "2025-02-25T21:37:57.392101500Z",
     "start_time": "2025-02-25T21:37:55.798449500Z"
    },
    "id": "ZACsm6v35USK"
   },
   "outputs": [],
   "source": [
    "#TODO: Méthode 2\n",
    "method2_results = validation_croisee_replis(appointments_matrix , matrix_row_mean, echantillonReplis, valeurs_observees, n_dimensions)"
   ]
  },
  {
   "cell_type": "code",
   "execution_count": 166,
   "metadata": {
    "ExecuteTime": {
     "end_time": "2025-02-25T21:37:58.667650200Z",
     "start_time": "2025-02-25T21:37:57.392101500Z"
    },
    "id": "c1q5EWgs9j9q"
   },
   "outputs": [],
   "source": [
    "#TODO: Méthode 3\n",
    "method3_results = validation_croisee_replis(appointments_matrix , matrix_row_col_mean, echantillonReplis, valeurs_observees, n_dimensions)"
   ]
  },
  {
   "cell_type": "code",
   "execution_count": 167,
   "metadata": {
    "ExecuteTime": {
     "end_time": "2025-02-25T21:37:58.682038100Z",
     "start_time": "2025-02-25T21:37:58.671833900Z"
    },
    "id": "6grrN80AlABW"
   },
   "outputs": [
    {
     "name": "stdout",
     "output_type": "stream",
     "text": [
      "Méthode 1 : \n",
      "[3.03706143 3.01110721 3.01876864 3.03648507 3.04539781]\n",
      "Méthode 2 : \n",
      "[1.35162994 1.35440329 1.35248771 1.35033949 1.35716492]\n",
      "Méthode 3 : \n",
      "[1.34558351 1.34806126 1.34691641 1.34359924 1.35109316]\n"
     ]
    }
   ],
   "source": [
    "print (\"Méthode 1 : \")\n",
    "print(method1_results)\n",
    "print (\"Méthode 2 : \")\n",
    "print(method2_results)\n",
    "print (\"Méthode 3 : \")\n",
    "print(method3_results)"
   ]
  },
  {
   "cell_type": "markdown",
   "metadata": {
    "id": "74bX_g0nmoPd"
   },
   "source": [
    "Affichez les résultats de la validation croisée pour chaque méthode (Méthode 1, Méthode 2, Méthode 3) sur un seul graphique en boîte à moustaches (boxplot). <b> (2 points) </b>"
   ]
  },
  {
   "cell_type": "code",
   "execution_count": 157,
   "metadata": {
    "ExecuteTime": {
     "end_time": "2025-02-25T21:54:30.588194400Z",
     "start_time": "2025-02-25T21:54:30.399932800Z"
    },
    "colab": {
     "base_uri": "https://localhost:8080/",
     "height": 472
    },
    "id": "9138EwEdlABW",
    "outputId": "31b50f62-3356-4025-89d5-37c50940baa2"
   },
   "outputs": [
    {
     "data": {
      "image/png": "[encoded data removed]",
      "text/plain": [
       "<Figure size 1200x600 with 3 Axes>"
      ]
     },
     "metadata": {},
     "output_type": "display_data"
    }
   ],
   "source": [
    "# TODO:\n",
    "import matplotlib.pyplot as plt\n",
    "\n",
    "\n",
    "fig, axes = plt.subplots(1, 3, figsize=(12, 6), sharey=False)  # Désactivation du partage de l'axe Y\n",
    "\n",
    "# Méthode 1\n",
    "axes[0].boxplot(method1_results)\n",
    "axes[0].set_title(\"Méthode 1\")\n",
    "axes[0].set_ylabel(\"Erreur RMSE\")\n",
    "axes[0].set_xticks([])\n",
    "\n",
    "# Méthode 2\n",
    "axes[1].boxplot(method2_results)\n",
    "axes[1].set_title(\"Méthode 2\")\n",
    "axes[1].set_xticks([])\n",
    "axes[1].set_ylabel(\"Erreur RMSE\")\n",
    "\n",
    "# Méthode 3\n",
    "axes[2].boxplot(method3_results)\n",
    "axes[2].set_title(\"Méthode 3\")\n",
    "axes[2].set_xticks([])\n",
    "axes[2].set_ylabel(\"Erreur RMSE\")\n",
    "\n",
    "# Ajustement de la mise en page\n",
    "fig.suptitle(\"Validation croisée : Comparaison des méthodes\")\n",
    "plt.show()\n",
    "# Affichage\n"
   ]
  },
  {
   "cell_type": "code",
   "execution_count": 158,
   "metadata": {
    "ExecuteTime": {
     "end_time": "2025-02-25T22:00:30.129903500Z",
     "start_time": "2025-02-25T22:00:30.044832200Z"
    },
    "collapsed": false,
    "jupyter": {
     "outputs_hidden": false
    }
   },
   "outputs": [
    {
     "data": {
      "image/png": "[encoded data removed]",
      "text/plain": [
       "<Figure size 640x480 with 1 Axes>"
      ]
     },
     "metadata": {},
     "output_type": "display_data"
    }
   ],
   "source": [
    "# Création d'un boxplot avec des sous-graphiques pour chaque méthode avec des axes Y indépendants\n",
    "\n",
    "plt.figure() \n",
    "plt.boxplot([method1_results , method2_results , method3_results] , labels = ['method 1' , 'method 2' , 'method 3'])\n",
    "plt.ylabel('erreur RMSE')\n",
    "\n",
    "\n",
    "plt.title(\"Validation croisée : Comparaison des méthodes avec l'erreur RMSE\")\n",
    "plt.show()"
   ]
  },
  {
   "cell_type": "markdown",
   "metadata": {
    "id": "0W2AvdW8a_J_"
   },
   "source": [
    "### E)\n",
    "Explorez le nombre de dimensions qui est optimal par visualisation de la performance prédictive en fonction du nombre de dimensions. Prenez la moyenne par ligne et colonne comme imputation et cet ensemble de dimensions à explorer : (2, 4, 8, 10, 15, 20, 40). N’utilisez qu’un échantillon de données.  <b>(1 point)</b>\n",
    "\n",
    "Pour ce faire:\n",
    "1. Calculez l'erreur quadratique pour chaque dimension.\n",
    "2. Affichez dans un graphique l'erreur quadratique selon le nombre de dimensions.\n",
    "\n",
    "*Note: Le graphique doit utiliser des marqueurs de type 'o' et un style de ligne '-'. N'oubliez pas de nommer les axes et de donner un titre.*\n",
    "\n"
   ]
  },
  {
   "cell_type": "code",
   "execution_count": 159,
   "metadata": {
    "id": "SjVYk0b2-gEY"
   },
   "outputs": [],
   "source": [
    "import matplotlib.pyplot as plt"
   ]
  },
  {
   "cell_type": "code",
   "execution_count": 160,
   "metadata": {
    "ExecuteTime": {
     "end_time": "2025-02-25T21:56:00.333700500Z",
     "start_time": "2025-02-25T21:55:58.160261700Z"
    },
    "colab": {
     "base_uri": "https://localhost:8080/",
     "height": 493
    },
    "id": "C11T9-vKMLmE",
    "outputId": "ae9d70eb-2688-4ee9-8792-25aff8627ee3"
   },
   "outputs": [
    {
     "data": {
      "image/png": "[encoded data removed]",
      "text/plain": [
       "<Figure size 800x600 with 1 Axes>"
      ]
     },
     "metadata": {},
     "output_type": "display_data"
    }
   ],
   "source": [
    "#TODO:\n",
    "\n",
    "\n",
    "dimensions_a_explorer = [2, 4, 8, 10, 15, 20, 40]\n",
    "erreurs_rmse_par_dimension = []\n",
    "echantillon_test = echantillonReplis[0]\n",
    "\n",
    "# Calcul de l'erreur pour chaque dimension\n",
    "for n_dim in dimensions_a_explorer:\n",
    "    erreur_rmse = validation_croisee(\n",
    "        appointments_matrix,\n",
    "        matrix_row_col_mean,\n",
    "        echantillon_test,\n",
    "        valeurs_observees,\n",
    "        n_dim\n",
    "    )\n",
    "    erreurs_rmse_par_dimension.append(erreur_rmse)\n",
    "\n",
    "plt.figure(figsize=(8, 6))\n",
    "plt.plot(dimensions_a_explorer, erreurs_rmse_par_dimension, marker='o', linestyle='-')\n",
    "\n",
    "\n",
    "plt.title(\"Performance prédictive en fonction du nombre de dimensions\")\n",
    "plt.xlabel(\"Nombre de dimensions\")\n",
    "plt.ylabel(\"Erreur RMSE\")\n",
    "\n",
    "# Affichage\n",
    "plt.show()\n"
   ]
  },
  {
   "cell_type": "markdown",
   "metadata": {
    "id": "0cHD2zjooFb9"
   },
   "source": [
    "## Probabilités bayésiennes\n",
    "\n",
    "<b> Mise en contexte : </b>\n",
    "\n",
    "La seconde approche de prédiction est basée sur les probabilités conditionnelles avec des ratios de vraisemblance. Ces calculs nécessitent des tableaux de contingences entre deux variables, la variable à prédire et le facteur de prédiction. Nous voudrons prédire si un individu est susceptible de recommender un docteur en fonction de trois variables, son sexe, son âge et sa condition de santé. Il nous faut donc créer les tableaux suivants.\n",
    "\n",
    "\n",
    "### F)\n",
    "\n",
    "Créez un tableau des données de rendez-vous et des patients.\n",
    "\n",
    "Pour ce faire:\n",
    "1. Renommez la colonne \"patients.id\" du DataFrame appointments par \"id \".\n",
    "2. Faites un left-join de nouveau DataFrame créé avec le DataFrame des patients.\n",
    "3. Enlevez les colonnes \"date\" et \" zip\".\n",
    "4. Ajoutez une nouvelle colonne \"recommande\" qui est à True si le \"niveau.recommandation\" est supérieur à 4.\n",
    "\n",
    "Affichez le nouveau tableau. <b> (1 point) </b>"
   ]
  },
  {
   "cell_type": "code",
   "execution_count": 161,
   "metadata": {
    "id": "PLfteMRIoxsK"
   },
   "outputs": [
    {
     "data": {
      "text/html": [
       "<div>\n",
       "<style scoped>\n",
       "    .dataframe tbody tr th:only-of-type {\n",
       "        vertical-align: middle;\n",
       "    }\n",
       "\n",
       "    .dataframe tbody tr th {\n",
       "        vertical-align: top;\n",
       "    }\n",
       "\n",
       "    .dataframe thead th {\n",
       "        text-align: right;\n",
       "    }\n",
       "</style>\n",
       "<table border=\"1\" class=\"dataframe\">\n",
       "  <thead>\n",
       "    <tr style=\"text-align: right;\">\n",
       "      <th></th>\n",
       "      <th>id</th>\n",
       "      <th>doctor.id</th>\n",
       "      <th>niveau.recommandation</th>\n",
       "      <th>age</th>\n",
       "      <th>gender</th>\n",
       "      <th>condition</th>\n",
       "      <th>recommande</th>\n",
       "    </tr>\n",
       "  </thead>\n",
       "  <tbody>\n",
       "    <tr>\n",
       "      <th>0</th>\n",
       "      <td>938</td>\n",
       "      <td>588</td>\n",
       "      <td>4</td>\n",
       "      <td>38</td>\n",
       "      <td>M</td>\n",
       "      <td>Asthma</td>\n",
       "      <td>False</td>\n",
       "    </tr>\n",
       "    <tr>\n",
       "      <th>1</th>\n",
       "      <td>81</td>\n",
       "      <td>1083</td>\n",
       "      <td>4</td>\n",
       "      <td>70</td>\n",
       "      <td>M</td>\n",
       "      <td>Hypertension</td>\n",
       "      <td>False</td>\n",
       "    </tr>\n",
       "    <tr>\n",
       "      <th>2</th>\n",
       "      <td>890</td>\n",
       "      <td>1144</td>\n",
       "      <td>2</td>\n",
       "      <td>62</td>\n",
       "      <td>F</td>\n",
       "      <td>Asthma</td>\n",
       "      <td>False</td>\n",
       "    </tr>\n",
       "    <tr>\n",
       "      <th>3</th>\n",
       "      <td>428</td>\n",
       "      <td>18</td>\n",
       "      <td>5</td>\n",
       "      <td>56</td>\n",
       "      <td>F</td>\n",
       "      <td>Hypertension</td>\n",
       "      <td>True</td>\n",
       "    </tr>\n",
       "    <tr>\n",
       "      <th>4</th>\n",
       "      <td>483</td>\n",
       "      <td>1130</td>\n",
       "      <td>5</td>\n",
       "      <td>27</td>\n",
       "      <td>M</td>\n",
       "      <td>Healthy</td>\n",
       "      <td>True</td>\n",
       "    </tr>\n",
       "  </tbody>\n",
       "</table>\n",
       "</div>"
      ],
      "text/plain": [
       "   id   doctor.id  niveau.recommandation  age gender     condition  recommande\n",
       "0  938        588                      4   38      M        Asthma       False\n",
       "1   81       1083                      4   70      M  Hypertension       False\n",
       "2  890       1144                      2   62      F        Asthma       False\n",
       "3  428         18                      5   56      F  Hypertension        True\n",
       "4  483       1130                      5   27      M       Healthy        True"
      ]
     },
     "metadata": {},
     "output_type": "display_data"
    }
   ],
   "source": [
    "import pandas as pd\n",
    "\n",
    "appointments = pd.read_csv(\"appointments.csv\")\n",
    "patients = pd.read_csv(\"patients.csv\")\n",
    "\n",
    "# Renommer la colonne \"patient.id\" en \"id \"\n",
    "appointments.rename(columns={\"patient.id\": \"id \"}, inplace=True)\n",
    "\n",
    "merged_df = appointments.merge(patients, how=\"left\", left_on=\"id \", right_on=\"id\")\n",
    "merged_df.drop(columns=[\"date\", \" zip\"], inplace=True)\n",
    "merged_df[\"recommande\"] = merged_df[\"niveau.recommandation\"] > 4\n",
    "\n",
    "# Supprimer la colonne id que l'on a en double \n",
    "merged_df.drop(columns=[\"id\"], inplace=True)\n",
    "\n",
    "\n",
    "display(merged_df.head())"
   ]
  },
  {
   "cell_type": "markdown",
   "metadata": {
    "id": "gKsyXKMNzfGo"
   },
   "source": [
    "### G)\n",
    "\n",
    "Créez un nouveau tableau \"recommande_gender\" qui présente la proportion de patients qui recommande ou qui ne recommande pas un docteur.\n",
    "\n",
    "Pour ce faire :\n",
    "1. À partir du DataFrame \"appointments\", regroupez les données par \"doctor.id\" et par \"gender\".\n",
    "2. Appliquez la fonction \"recommande_tbl\" sur la colonne \"recommande\" et réinitialisez l'index.\n",
    "3. Créez un \"pivot table\" dont l'index est \"doctor.id\", la colonne est \" gender \", les valeurs sont \"recommande\" et \"recommandePas\", puis utilisez la sommation comme fonction d'agrégation.\n",
    "4. Créez une colonne \"LS\" à l'aide de la fonction \"ratio_vraisemblance\" qui contient le résultat du ratio de vraisemblance. Voici les paramètres à donner à cette fonction :\n",
    "  - EH:  recommande_gender[('recommande', 'F')]\n",
    "  - EnH: recommande_gender[('recommandePas', 'F')]\n",
    "  - nEH: recommande_gender[('recommande', 'M')]\n",
    "  - nEnH: recommande_gender[('recommandePas', 'M')]\n",
    "\n",
    "*Note: La valeur LS de votre 1ère ligne devrait être environ 1.147059.*\n",
    "\n",
    "Affichez le nouveau DataFrame. <b> (1 point) </b>\n"
   ]
  },
  {
   "cell_type": "code",
   "execution_count": 176,
   "metadata": {},
   "outputs": [],
   "source": [
    "def recommande_tbl(x):\n",
    "    return pd.DataFrame({'recommande': [sum(x)], 'recommandePas': [sum(1-x)]})\n",
    "\n",
    "def ratio_vraisemblance(EH, EnH, nEH, nEnH):\n",
    "    return ((EH+1)/(EH+nEH+2))/((EnH+1)/(EnH+nEnH+2))"
   ]
  },
  {
   "cell_type": "code",
   "execution_count": 180,
   "metadata": {
    "id": "ULstOHKbyYNm"
   },
   "outputs": [
    {
     "data": {
      "text/html": [
       "<div>\n",
       "<style scoped>\n",
       "    .dataframe tbody tr th:only-of-type {\n",
       "        vertical-align: middle;\n",
       "    }\n",
       "\n",
       "    .dataframe tbody tr th {\n",
       "        vertical-align: top;\n",
       "    }\n",
       "\n",
       "    .dataframe thead tr th {\n",
       "        text-align: left;\n",
       "    }\n",
       "\n",
       "    .dataframe thead tr:last-of-type th {\n",
       "        text-align: right;\n",
       "    }\n",
       "</style>\n",
       "<table border=\"1\" class=\"dataframe\">\n",
       "  <thead>\n",
       "    <tr>\n",
       "      <th></th>\n",
       "      <th colspan=\"2\" halign=\"left\">recommande</th>\n",
       "      <th colspan=\"2\" halign=\"left\">recommandePas</th>\n",
       "      <th>LS</th>\n",
       "    </tr>\n",
       "    <tr>\n",
       "      <th>gender</th>\n",
       "      <th>F</th>\n",
       "      <th>M</th>\n",
       "      <th>F</th>\n",
       "      <th>M</th>\n",
       "      <th></th>\n",
       "    </tr>\n",
       "    <tr>\n",
       "      <th>doctor.id</th>\n",
       "      <th></th>\n",
       "      <th></th>\n",
       "      <th></th>\n",
       "      <th></th>\n",
       "      <th></th>\n",
       "    </tr>\n",
       "  </thead>\n",
       "  <tbody>\n",
       "    <tr>\n",
       "      <th>1</th>\n",
       "      <td>9</td>\n",
       "      <td>9</td>\n",
       "      <td>16</td>\n",
       "      <td>21</td>\n",
       "      <td>1.147059</td>\n",
       "    </tr>\n",
       "    <tr>\n",
       "      <th>2</th>\n",
       "      <td>5</td>\n",
       "      <td>4</td>\n",
       "      <td>16</td>\n",
       "      <td>25</td>\n",
       "      <td>1.379679</td>\n",
       "    </tr>\n",
       "    <tr>\n",
       "      <th>3</th>\n",
       "      <td>5</td>\n",
       "      <td>1</td>\n",
       "      <td>21</td>\n",
       "      <td>23</td>\n",
       "      <td>1.568182</td>\n",
       "    </tr>\n",
       "    <tr>\n",
       "      <th>4</th>\n",
       "      <td>10</td>\n",
       "      <td>8</td>\n",
       "      <td>30</td>\n",
       "      <td>26</td>\n",
       "      <td>1.029032</td>\n",
       "    </tr>\n",
       "    <tr>\n",
       "      <th>5</th>\n",
       "      <td>3</td>\n",
       "      <td>10</td>\n",
       "      <td>25</td>\n",
       "      <td>19</td>\n",
       "      <td>0.471795</td>\n",
       "    </tr>\n",
       "  </tbody>\n",
       "</table>\n",
       "</div>"
      ],
      "text/plain": [
       "          recommande     recommandePas            LS\n",
       "gender             F   M             F   M          \n",
       "doctor.id                                           \n",
       "1                  9   9            16  21  1.147059\n",
       "2                  5   4            16  25  1.379679\n",
       "3                  5   1            21  23  1.568182\n",
       "4                 10   8            30  26  1.029032\n",
       "5                  3  10            25  19  0.471795"
      ]
     },
     "metadata": {},
     "output_type": "display_data"
    }
   ],
   "source": [
    "grouped = merged_df.groupby([\"doctor.id\", \"gender\"])\n",
    "grouped_recommande = grouped[\"recommande\"].apply(recommande_tbl).reset_index(level=2, drop=True)\n",
    "# display(grouped_recommande.head())\n",
    "\n",
    "recommande_gender = grouped_recommande.pivot_table(\n",
    "    index=\"doctor.id\",\n",
    "    columns=\"gender\",\n",
    "    values=[\"recommande\", \"recommandePas\"],\n",
    "    aggfunc=\"sum\"\n",
    ")\n",
    "\n",
    "\n",
    "recommande_gender.fillna(0, inplace=True)\n",
    "\n",
    "recommande_gender[\"LS\"] = ratio_vraisemblance(\n",
    "    recommande_gender[(\"recommande\", \"F\")],\n",
    "    recommande_gender[(\"recommandePas\", \"F\")],\n",
    "    recommande_gender[(\"recommande\", \"M\")],\n",
    "    recommande_gender[(\"recommandePas\", \"M\")]\n",
    ")\n",
    "\n",
    "\n",
    "display(recommande_gender.head())\n"
   ]
  },
  {
   "cell_type": "markdown",
   "metadata": {
    "id": "zYaydJTm8gok"
   },
   "source": [
    "### H)\n",
    "Affichez dans un graphique à barres la valeur LS pour les dix premiers \"doctor.id\" en utilisant le tableau \"recommande_gender\". <b> (0.5 point) </b>\n",
    "\n",
    "*Note: N'oubliez pas de nommer vos axes et votre graphique.*"
   ]
  },
  {
   "cell_type": "code",
   "execution_count": 183,
   "metadata": {
    "colab": {
     "base_uri": "https://localhost:8080/",
     "height": 564
    },
    "id": "ibJPkWa-382w",
    "outputId": "f19a744a-a0da-461f-e05f-37ab706e7422"
   },
   "outputs": [
    {
     "data": {
      "image/png": "[encoded data removed]",
      "text/plain": [
       "<Figure size 1000x500 with 1 Axes>"
      ]
     },
     "metadata": {},
     "output_type": "display_data"
    }
   ],
   "source": [
    "import matplotlib.pyplot as plt\n",
    "\n",
    "# Sélectionner les dix premiers \"doctor.id\" et leurs valeurs LS\n",
    "First_10_doctors = recommande_gender[\"LS\"].head(10)\n",
    "\n",
    "# Création du graphique à barres\n",
    "plt.figure(figsize=(10, 5))\n",
    "plt.bar(First_10_doctors.index, First_10_doctors.values, color='blue')\n",
    "\n",
    "# Ajout de titres et labels\n",
    "plt.xlabel(\"Doctor ID\")\n",
    "plt.ylabel(\"Valeur LS\")\n",
    "plt.title(\"Valeur LS pour les 10 premiers docteurs\")\n",
    "plt.xticks(rotation=45)\n",
    "\n",
    "# Affichage du graphique\n",
    "plt.show()\n",
    "\n",
    "# TODO:"
   ]
  },
  {
   "cell_type": "markdown",
   "metadata": {
    "id": "0rT7_Mm0OIaD"
   },
   "source": [
    "## 3. LIVRABLES\n",
    "Vous devez remettre sur Moodle un fichier compressé .zip contenant :\n",
    "\n",
    "1) Le code : Un Jupyter notebook en Python qui contient le code tel implanté avec les librairies minimales demandées pour ce TP (Python, Pandas, Matplotlib). Le code doit être exécutable sans erreur et accompagné des commentaires appropriés dans le notebook de manière. Tous vos résultats doivent être reproductibles avec le code dans le notebook. *Attention, en aucun cas votre code ne doit avoir été copié de d'ailleurs.*\n",
    "\n",
    "2) Un fichier pdf représentant votre notebook complètement exécuté sous format pdf (obtenu via latex ou imprimé en pdf avec le navigateur). Assurez-vous que le PDF est entièrement lisible. [Tutoriel youtube](https://www.youtube.com/watch?v=-Ti9Mm21uVc)\n",
    "\n",
    "ATTENTION: assurez-vous que votre fichier compressé .zip ne dépasse pas la taille limite acceptée sur Moodle.\n"
   ]
  },
  {
   "cell_type": "markdown",
   "metadata": {
    "id": "JkxB1hfwRQw9"
   },
   "source": [
    "__ÉVALUATION__ <br>\n",
    "Votre TP sera évalué sur les points suivants :\n",
    "\n",
    "__Critères :__\n",
    "1. Implantation correcte et efficace\n",
    "2. Qualité du code (noms significatifs, structure, performance, gestion d’exception, etc.) <b>(1 point)</b>\n",
    "3. Réponses correctes/sensées aux questions de réflexion ou d'analyse\n",
    "\n",
    "__CODE D’HONNEUR__\n",
    "- __Règle 1__:  Le plagiat de code est bien évidemment interdit. Toute utilisation de code doit être référencée adéquatement. Vous __ne pouvez pas__ soumettre un code, écrit par quelqu’un d’autre. Dans le cas contraire, cela sera considéré comme du plagiat.\n",
    "- __Règle 2__: Vous êtes libres de discuter avec d'autres équipes. Cependant, vous ne pouvez en aucun cas incorporer leur code dans votre TP.\n",
    "- __Règle 3__:  Vous ne pouvez pas partager votre code publiquement."
   ]
  },
  {
   "cell_type": "markdown",
   "metadata": {
    "id": "6B9vE0FUSGFP"
   },
   "source": [
    "### Conversion en PDF sur Google Colab"
   ]
  },
  {
   "cell_type": "code",
   "execution_count": null,
   "metadata": {
    "id": "Iig7VzFFN11u"
   },
   "outputs": [],
   "source": [
    "%%capture\n",
    "!sudo apt-get install texlive-xetex texlive-fonts-recommended texlive-plain-generic"
   ]
  },
  {
   "cell_type": "markdown",
   "metadata": {
    "id": "tz0BpqmcU9ZA"
   },
   "source": [
    "Assurez vous d'avoir téléchargé le TP complété en notebook sur votre ordinateur, puis importé ce fichier dans le répertoire \"content\" avant de rouler la ligne suivante."
   ]
  },
  {
   "cell_type": "code",
   "execution_count": null,
   "metadata": {
    "id": "OPSlcCFrSqik"
   },
   "outputs": [],
   "source": [
    "!jupyter nbconvert --to pdf /content/TP1.ipynb"
   ]
  }
 ],
 "metadata": {
  "colab": {
   "provenance": []
  },
  "kernelspec": {
   "display_name": "Python 3 (ipykernel)",
   "language": "python",
   "name": "python3"
  },
  "language_info": {
   "codemirror_mode": {
    "name": "ipython",
    "version": 3
   },
   "file_extension": ".py",
   "mimetype": "text/x-python",
   "name": "python",
   "nbconvert_exporter": "python",
   "pygments_lexer": "ipython3",
   "version": "3.11.6"
  }
 },
 "nbformat": 4,
 "nbformat_minor": 4
}
