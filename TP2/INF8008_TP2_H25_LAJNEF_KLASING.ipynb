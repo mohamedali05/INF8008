{
 "cells": [
  {
   "cell_type": "markdown",
   "metadata": {
    "id": "th8R6iFhsz79"
   },
   "source": [
    "\n",
    "\n",
    "## <center> Polytechnique Montréal <br> Département Génie Informatique et Génie Logiciel <br>  INF8008 – Prétraitement de données <br> . <br> TP2  - Transformation, distribution et statistiques descriptives<br>  Hiver 2025 <br> . <br>  Janvier 2025 </center>"
   ]
  },
  {
   "cell_type": "markdown",
   "metadata": {
    "id": "4-uCAmWYtjG8"
   },
   "source": [
    "## Introduction\n",
    "\n",
    "Le TD2 porte sur la transformation, la distribution et les statistiques descriptives. **Nous survolons l'utilisation de fonctions de base de Pandas et de l'analyse de données numériques.** Les données du fichier *Alzheimer_s_Disease_and_Healthy_Aging_Data.csv* sont des données publiques provenant d'enquêtes sur le vieillissement et la santé, faites par le [Département de la Santé et des Services sociaux des États-Unis](https://catalog.data.gov/dataset/alzheimers-disease-and-healthy-aging-data). Contrairement aux données du TP1 qui avaient été traitées au préalable, celles utilisées pour ce TP ne le sont pas. Vous devrez traiter les données brutes pour obtenir une version plus condensée, facilitant l'analyse des tendances et des sous-groupes de population.\n",
    "\n",
    "Les champs principaux du fichier de données **Alzheimer_s_Disease_and_Healthy_Aging_Data.csv** sont les suivants :\n",
    "\n",
    "- **YearStart/YearEnd** : années de début et de fin des données\n",
    "- **LocationAbbr** : abréviation du lieu\n",
    "- **Class** : catégorie des données (ex. : Santé mentale)\n",
    "- **Topic** : sujet spécifique (ex. : détresse mentale fréquente)\n",
    "- **Question** : question étudiée\n",
    "- **Data_Value_Unit** : unité de mesure des données (ex. : pourcentage)\n",
    "- **Data_Value** : valeur des données collectées\n",
    "- **StratificationCategory1 / Stratification1** : catégorie et détail de la première stratification (ex. : âge, genre)\n",
    "- **StratificationCategory2 / Stratification2** : catégorie et détail de la deuxième stratification (ex. : race, ethnie)\n",
    "\n",
    "Ces données servent de base pour explorer les tendances, identifier des corrélations, et mieux comprendre les facteurs liés aux maladies neurodégénératives et à la santé mentale des populations vieillissantes. Votre objectif dans ce TP sera de préparer ces données pour qu'elles soient prêtes pour une analyse approfondie."
   ]
  },
  {
   "cell_type": "markdown",
   "metadata": {
    "id": "jSAmD2Iuuxds"
   },
   "source": [
    "Voici les librairies python qui sera à utiliser pour ce TP :\n",
    "- [pandas](https://pandas.pydata.org/docs/user_guide/index.html)\n",
    "- [numpy](https://numpy.org/doc/stable/user/basics.html)\n",
    "- [matplotlib](https://matplotlib.org/stable/users/explain/quick_start.html)\n",
    "\n",
    "**À noter qu'au niveau de chaque question, il est recommandé de copier le DataFrame obtenu à la question précédente dans un nouveau DataFrame.**\n",
    "\n",
    "*Veuillez vous référer à l'énoncé PDF de ce TP pour voir la sortie attendue.*\n"
   ]
  },
  {
   "cell_type": "code",
   "execution_count": 150,
   "metadata": {
    "id": "Yowt8NL4v29E",
    "ExecuteTime": {
     "end_time": "2025-02-03T21:54:06.215733800Z",
     "start_time": "2025-02-03T21:54:06.133766500Z"
    }
   },
   "outputs": [],
   "source": [
    "import pandas as pd\n",
    "import numpy as np"
   ]
  },
  {
   "cell_type": "code",
   "execution_count": 151,
   "metadata": {
    "id": "pVLjUZbts_z6",
    "ExecuteTime": {
     "end_time": "2025-02-03T21:54:07.138094100Z",
     "start_time": "2025-02-03T21:54:06.138164300Z"
    }
   },
   "outputs": [
    {
     "data": {
      "text/plain": "                                          RowId  YearStart  YearEnd  \\\n0         BRFSS~2022~2022~42~Q03~TMC01~AGE~RACE       2022     2022   \n1         BRFSS~2022~2022~46~Q03~TMC01~AGE~RACE       2022     2022   \n2         BRFSS~2022~2022~16~Q03~TMC01~AGE~RACE       2022     2022   \n3         BRFSS~2022~2022~24~Q03~TMC01~AGE~RACE       2022     2022   \n4       BRFSS~2022~2022~55~Q03~TMC01~AGE~GENDER       2022     2022   \n...                                         ...        ...      ...   \n284137    BRFSS~2016~2016~55~Q15~TSC02~AGE~RACE       2016     2016   \n284138    BRFSS~2017~2017~56~Q45~TOC13~AGE~RACE       2017     2017   \n284139    BRFSS~2015~2015~56~Q42~TCC04~AGE~RACE       2015     2015   \n284140    BRFSS~2019~2019~54~Q46~TOC10~AGE~RACE       2019     2019   \n284141    BRFSS~2015~2015~56~Q02~TNC02~AGE~RACE       2015     2015   \n\n       LocationAbbr   LocationDesc Datasource  \\\n0                PA   Pennsylvania      BRFSS   \n1                SD   South Dakota      BRFSS   \n2                ID          Idaho      BRFSS   \n3                MD       Maryland      BRFSS   \n4                WI      Wisconsin      BRFSS   \n...             ...            ...        ...   \n284137           WI      Wisconsin      BRFSS   \n284138           WY        Wyoming      BRFSS   \n284139           WY        Wyoming      BRFSS   \n284140           WV  West Virginia      BRFSS   \n284141           WY        Wyoming      BRFSS   \n\n                                      Class  \\\n0                             Mental Health   \n1                             Mental Health   \n2                             Mental Health   \n3                             Mental Health   \n4                             Mental Health   \n...                                     ...   \n284137              Screenings and Vaccines   \n284138                       Overall Health   \n284139                    Cognitive Decline   \n284140                       Overall Health   \n284141  Nutrition/Physical Activity/Obesity   \n\n                                                    Topic  \\\n0                                Frequent mental distress   \n1                                Frequent mental distress   \n2                                Frequent mental distress   \n3                                Frequent mental distress   \n4                                Frequent mental distress   \n...                                                   ...   \n284137                        Colorectal cancer screening   \n284138  Fair or poor health among older adults with ar...   \n284139  Talked with health care professional about sub...   \n284140  Disability status, including sensory or mobili...   \n284141                  Eating 3 or more vegetables daily   \n\n                                                 Question Data_Value_Unit  \\\n0       Percentage of older adults who are experiencin...               %   \n1       Percentage of older adults who are experiencin...               %   \n2       Percentage of older adults who are experiencin...               %   \n3       Percentage of older adults who are experiencin...               %   \n4       Percentage of older adults who are experiencin...               %   \n...                                                   ...             ...   \n284137  Percentage of older adults who had either a ho...               %   \n284138  Fair or poor health among older adults with do...               %   \n284139  Percentage of older adults with subjective cog...               %   \n284140  Percentage of older adults who report having a...               %   \n284141  Percentage of older adults who are eating 3 or...               %   \n\n        ...           Stratification2                       Geolocation  \\\n0       ...  Native Am/Alaskan Native  POINT (-77.86070029 40.79373015)   \n1       ...    Asian/Pacific Islander  POINT (-100.3735306 44.35313005)   \n2       ...       Black, non-Hispanic    POINT (-114.36373 43.68263001)   \n3       ...       Black, non-Hispanic  POINT (-76.60926011 39.29058096)   \n4       ...                      Male  POINT (-89.81637074 44.39319117)   \n...     ...                       ...                               ...   \n284137  ...       Black, non-Hispanic  POINT (-89.81637074 44.39319117)   \n284138  ...                  Hispanic  POINT (-108.1098304 43.23554134)   \n284139  ...    Asian/Pacific Islander  POINT (-108.1098304 43.23554134)   \n284140  ...                  Hispanic   POINT (-80.71264013 38.6655102)   \n284141  ...  Native Am/Alaskan Native  POINT (-108.1098304 43.23554134)   \n\n        ClassID  TopicID QuestionID LocationID  StratificationCategoryID1  \\\n0           C05    TMC01        Q03         42                        AGE   \n1           C05    TMC01        Q03         46                        AGE   \n2           C05    TMC01        Q03         16                        AGE   \n3           C05    TMC01        Q03         24                        AGE   \n4           C05    TMC01        Q03         55                        AGE   \n...         ...      ...        ...        ...                        ...   \n284137      C03    TSC02        Q15         55                        AGE   \n284138      C01    TOC13        Q45         56                        AGE   \n284139      C06    TCC04        Q42         56                        AGE   \n284140      C01    TOC10        Q46         54                        AGE   \n284141      C02    TNC02        Q02         56                        AGE   \n\n        StratificationID1 StratificationCategoryID2 StratificationID2  \n0                    5064                      RACE               NAA  \n1                  65PLUS                      RACE               ASN  \n2                  65PLUS                      RACE               BLK  \n3                  65PLUS                      RACE               BLK  \n4                  65PLUS                    GENDER              MALE  \n...                   ...                       ...               ...  \n284137        AGE_OVERALL                      RACE               BLK  \n284138               5064                      RACE               HIS  \n284139        AGE_OVERALL                      RACE               ASN  \n284140             65PLUS                      RACE               HIS  \n284141               5064                      RACE               NAA  \n\n[284142 rows x 31 columns]",
      "text/html": "<div>\n<style scoped>\n    .dataframe tbody tr th:only-of-type {\n        vertical-align: middle;\n    }\n\n    .dataframe tbody tr th {\n        vertical-align: top;\n    }\n\n    .dataframe thead th {\n        text-align: right;\n    }\n</style>\n<table border=\"1\" class=\"dataframe\">\n  <thead>\n    <tr style=\"text-align: right;\">\n      <th></th>\n      <th>RowId</th>\n      <th>YearStart</th>\n      <th>YearEnd</th>\n      <th>LocationAbbr</th>\n      <th>LocationDesc</th>\n      <th>Datasource</th>\n      <th>Class</th>\n      <th>Topic</th>\n      <th>Question</th>\n      <th>Data_Value_Unit</th>\n      <th>...</th>\n      <th>Stratification2</th>\n      <th>Geolocation</th>\n      <th>ClassID</th>\n      <th>TopicID</th>\n      <th>QuestionID</th>\n      <th>LocationID</th>\n      <th>StratificationCategoryID1</th>\n      <th>StratificationID1</th>\n      <th>StratificationCategoryID2</th>\n      <th>StratificationID2</th>\n    </tr>\n  </thead>\n  <tbody>\n    <tr>\n      <th>0</th>\n      <td>BRFSS~2022~2022~42~Q03~TMC01~AGE~RACE</td>\n      <td>2022</td>\n      <td>2022</td>\n      <td>PA</td>\n      <td>Pennsylvania</td>\n      <td>BRFSS</td>\n      <td>Mental Health</td>\n      <td>Frequent mental distress</td>\n      <td>Percentage of older adults who are experiencin...</td>\n      <td>%</td>\n      <td>...</td>\n      <td>Native Am/Alaskan Native</td>\n      <td>POINT (-77.86070029 40.79373015)</td>\n      <td>C05</td>\n      <td>TMC01</td>\n      <td>Q03</td>\n      <td>42</td>\n      <td>AGE</td>\n      <td>5064</td>\n      <td>RACE</td>\n      <td>NAA</td>\n    </tr>\n    <tr>\n      <th>1</th>\n      <td>BRFSS~2022~2022~46~Q03~TMC01~AGE~RACE</td>\n      <td>2022</td>\n      <td>2022</td>\n      <td>SD</td>\n      <td>South Dakota</td>\n      <td>BRFSS</td>\n      <td>Mental Health</td>\n      <td>Frequent mental distress</td>\n      <td>Percentage of older adults who are experiencin...</td>\n      <td>%</td>\n      <td>...</td>\n      <td>Asian/Pacific Islander</td>\n      <td>POINT (-100.3735306 44.35313005)</td>\n      <td>C05</td>\n      <td>TMC01</td>\n      <td>Q03</td>\n      <td>46</td>\n      <td>AGE</td>\n      <td>65PLUS</td>\n      <td>RACE</td>\n      <td>ASN</td>\n    </tr>\n    <tr>\n      <th>2</th>\n      <td>BRFSS~2022~2022~16~Q03~TMC01~AGE~RACE</td>\n      <td>2022</td>\n      <td>2022</td>\n      <td>ID</td>\n      <td>Idaho</td>\n      <td>BRFSS</td>\n      <td>Mental Health</td>\n      <td>Frequent mental distress</td>\n      <td>Percentage of older adults who are experiencin...</td>\n      <td>%</td>\n      <td>...</td>\n      <td>Black, non-Hispanic</td>\n      <td>POINT (-114.36373 43.68263001)</td>\n      <td>C05</td>\n      <td>TMC01</td>\n      <td>Q03</td>\n      <td>16</td>\n      <td>AGE</td>\n      <td>65PLUS</td>\n      <td>RACE</td>\n      <td>BLK</td>\n    </tr>\n    <tr>\n      <th>3</th>\n      <td>BRFSS~2022~2022~24~Q03~TMC01~AGE~RACE</td>\n      <td>2022</td>\n      <td>2022</td>\n      <td>MD</td>\n      <td>Maryland</td>\n      <td>BRFSS</td>\n      <td>Mental Health</td>\n      <td>Frequent mental distress</td>\n      <td>Percentage of older adults who are experiencin...</td>\n      <td>%</td>\n      <td>...</td>\n      <td>Black, non-Hispanic</td>\n      <td>POINT (-76.60926011 39.29058096)</td>\n      <td>C05</td>\n      <td>TMC01</td>\n      <td>Q03</td>\n      <td>24</td>\n      <td>AGE</td>\n      <td>65PLUS</td>\n      <td>RACE</td>\n      <td>BLK</td>\n    </tr>\n    <tr>\n      <th>4</th>\n      <td>BRFSS~2022~2022~55~Q03~TMC01~AGE~GENDER</td>\n      <td>2022</td>\n      <td>2022</td>\n      <td>WI</td>\n      <td>Wisconsin</td>\n      <td>BRFSS</td>\n      <td>Mental Health</td>\n      <td>Frequent mental distress</td>\n      <td>Percentage of older adults who are experiencin...</td>\n      <td>%</td>\n      <td>...</td>\n      <td>Male</td>\n      <td>POINT (-89.81637074 44.39319117)</td>\n      <td>C05</td>\n      <td>TMC01</td>\n      <td>Q03</td>\n      <td>55</td>\n      <td>AGE</td>\n      <td>65PLUS</td>\n      <td>GENDER</td>\n      <td>MALE</td>\n    </tr>\n    <tr>\n      <th>...</th>\n      <td>...</td>\n      <td>...</td>\n      <td>...</td>\n      <td>...</td>\n      <td>...</td>\n      <td>...</td>\n      <td>...</td>\n      <td>...</td>\n      <td>...</td>\n      <td>...</td>\n      <td>...</td>\n      <td>...</td>\n      <td>...</td>\n      <td>...</td>\n      <td>...</td>\n      <td>...</td>\n      <td>...</td>\n      <td>...</td>\n      <td>...</td>\n      <td>...</td>\n      <td>...</td>\n    </tr>\n    <tr>\n      <th>284137</th>\n      <td>BRFSS~2016~2016~55~Q15~TSC02~AGE~RACE</td>\n      <td>2016</td>\n      <td>2016</td>\n      <td>WI</td>\n      <td>Wisconsin</td>\n      <td>BRFSS</td>\n      <td>Screenings and Vaccines</td>\n      <td>Colorectal cancer screening</td>\n      <td>Percentage of older adults who had either a ho...</td>\n      <td>%</td>\n      <td>...</td>\n      <td>Black, non-Hispanic</td>\n      <td>POINT (-89.81637074 44.39319117)</td>\n      <td>C03</td>\n      <td>TSC02</td>\n      <td>Q15</td>\n      <td>55</td>\n      <td>AGE</td>\n      <td>AGE_OVERALL</td>\n      <td>RACE</td>\n      <td>BLK</td>\n    </tr>\n    <tr>\n      <th>284138</th>\n      <td>BRFSS~2017~2017~56~Q45~TOC13~AGE~RACE</td>\n      <td>2017</td>\n      <td>2017</td>\n      <td>WY</td>\n      <td>Wyoming</td>\n      <td>BRFSS</td>\n      <td>Overall Health</td>\n      <td>Fair or poor health among older adults with ar...</td>\n      <td>Fair or poor health among older adults with do...</td>\n      <td>%</td>\n      <td>...</td>\n      <td>Hispanic</td>\n      <td>POINT (-108.1098304 43.23554134)</td>\n      <td>C01</td>\n      <td>TOC13</td>\n      <td>Q45</td>\n      <td>56</td>\n      <td>AGE</td>\n      <td>5064</td>\n      <td>RACE</td>\n      <td>HIS</td>\n    </tr>\n    <tr>\n      <th>284139</th>\n      <td>BRFSS~2015~2015~56~Q42~TCC04~AGE~RACE</td>\n      <td>2015</td>\n      <td>2015</td>\n      <td>WY</td>\n      <td>Wyoming</td>\n      <td>BRFSS</td>\n      <td>Cognitive Decline</td>\n      <td>Talked with health care professional about sub...</td>\n      <td>Percentage of older adults with subjective cog...</td>\n      <td>%</td>\n      <td>...</td>\n      <td>Asian/Pacific Islander</td>\n      <td>POINT (-108.1098304 43.23554134)</td>\n      <td>C06</td>\n      <td>TCC04</td>\n      <td>Q42</td>\n      <td>56</td>\n      <td>AGE</td>\n      <td>AGE_OVERALL</td>\n      <td>RACE</td>\n      <td>ASN</td>\n    </tr>\n    <tr>\n      <th>284140</th>\n      <td>BRFSS~2019~2019~54~Q46~TOC10~AGE~RACE</td>\n      <td>2019</td>\n      <td>2019</td>\n      <td>WV</td>\n      <td>West Virginia</td>\n      <td>BRFSS</td>\n      <td>Overall Health</td>\n      <td>Disability status, including sensory or mobili...</td>\n      <td>Percentage of older adults who report having a...</td>\n      <td>%</td>\n      <td>...</td>\n      <td>Hispanic</td>\n      <td>POINT (-80.71264013 38.6655102)</td>\n      <td>C01</td>\n      <td>TOC10</td>\n      <td>Q46</td>\n      <td>54</td>\n      <td>AGE</td>\n      <td>65PLUS</td>\n      <td>RACE</td>\n      <td>HIS</td>\n    </tr>\n    <tr>\n      <th>284141</th>\n      <td>BRFSS~2015~2015~56~Q02~TNC02~AGE~RACE</td>\n      <td>2015</td>\n      <td>2015</td>\n      <td>WY</td>\n      <td>Wyoming</td>\n      <td>BRFSS</td>\n      <td>Nutrition/Physical Activity/Obesity</td>\n      <td>Eating 3 or more vegetables daily</td>\n      <td>Percentage of older adults who are eating 3 or...</td>\n      <td>%</td>\n      <td>...</td>\n      <td>Native Am/Alaskan Native</td>\n      <td>POINT (-108.1098304 43.23554134)</td>\n      <td>C02</td>\n      <td>TNC02</td>\n      <td>Q02</td>\n      <td>56</td>\n      <td>AGE</td>\n      <td>5064</td>\n      <td>RACE</td>\n      <td>NAA</td>\n    </tr>\n  </tbody>\n</table>\n<p>284142 rows × 31 columns</p>\n</div>"
     },
     "execution_count": 151,
     "metadata": {},
     "output_type": "execute_result"
    }
   ],
   "source": [
    "df = pd.read_csv('Alzheimer_s_Disease_and_Healthy_Aging_Data.csv')\n",
    "df"
   ]
  },
  {
   "cell_type": "markdown",
   "metadata": {
    "id": "6zP9EwsKve8l"
   },
   "source": [
    "\n",
    "### A)\n",
    "Vous remarquerez que ce jeu de données est assez large, avec 284142 lignes et 31 colonnes.\n",
    "\n",
    "Avec des ensembles de données de cette taille, on peut souvent trouver des défauts, comme des doublons de lignes.\n",
    "Vérifiez donc s'il existe des valeurs en double dans le DataFrame. <b>(2 points)</b>"
   ]
  },
  {
   "cell_type": "code",
   "execution_count": 152,
   "metadata": {
    "id": "6JJzhtUMyzuC",
    "collapsed": true,
    "ExecuteTime": {
     "end_time": "2025-02-03T21:54:07.572437300Z",
     "start_time": "2025-02-03T21:54:07.139109500Z"
    }
   },
   "outputs": [
    {
     "name": "stdout",
     "output_type": "stream",
     "text": [
      "Le DataFrame contient-il des doublons ? : non\n"
     ]
    }
   ],
   "source": [
    "#TODO:\n",
    "has_duplicates = \"oui\" if df.duplicated().any() else \"non\"\n",
    "print(\"Le DataFrame contient-il des doublons ? :\", has_duplicates)"
   ]
  },
  {
   "cell_type": "markdown",
   "metadata": {
    "id": "a43M_-VLZ-eB"
   },
   "source": [
    "### B)\n",
    "Il est possible d'extraire la durée du sondage en soustrayant l'année de début de l'année de fin. Utilisez lambda, ainsi que cette soustraction, pour garder les lignes avec une durée de sondage de moins d'1 an. <b>(3 points)</b>"
   ]
  },
  {
   "cell_type": "code",
   "execution_count": 153,
   "metadata": {
    "colab": {
     "base_uri": "https://localhost:8080/",
     "height": 1000
    },
    "id": "IhyVILpNLj57",
    "outputId": "7e44f190-25b5-4174-e6f5-2a4d0cb9d55e",
    "ExecuteTime": {
     "end_time": "2025-02-03T21:54:07.641128300Z",
     "start_time": "2025-02-03T21:54:07.568423600Z"
    }
   },
   "outputs": [],
   "source": [
    "#TODO:\n",
    "df = df[(df['YearEnd'] -df['YearStart']).apply(lambda x : x<1)]"
   ]
  },
  {
   "cell_type": "markdown",
   "metadata": {
    "id": "0W2AvdW8a_J_"
   },
   "source": [
    "### C)\n",
    "Maintenant que cette étape est faite, les colonnes YearStart et YearEnd contiennent la même information. Renommez une des deux colonnes à `Year`, et supprimez l'autre. <b>(2 points)</b>"
   ]
  },
  {
   "cell_type": "code",
   "execution_count": 154,
   "metadata": {
    "id": "M2UmwXoY7j2v",
    "ExecuteTime": {
     "end_time": "2025-02-03T21:54:07.727136700Z",
     "start_time": "2025-02-03T21:54:07.644797700Z"
    }
   },
   "outputs": [],
   "source": [
    "#TODO:\n",
    "df = df.rename(columns={'YearStart': 'Year'}).drop(columns=['YearEnd'] )"
   ]
  },
  {
   "cell_type": "markdown",
   "metadata": {
    "id": "A8AQ5voy7j2v"
   },
   "source": [
    "### D)\n",
    "Certaines colonnes contiennent des données redondantes ou inutiles pour notre analyse. Éliminez toutes les colonnes inutiles en ne conservant que celles mentionnées dans l'introduction. Combien de colonnes reste-t-il ? <b>(2 points)</b>"
   ]
  },
  {
   "cell_type": "code",
   "execution_count": 155,
   "metadata": {
    "id": "ryL97wR77j2v",
    "ExecuteTime": {
     "end_time": "2025-02-03T21:54:07.754602600Z",
     "start_time": "2025-02-03T21:54:07.729137800Z"
    }
   },
   "outputs": [
    {
     "name": "stdout",
     "output_type": "stream",
     "text": [
      "Nombre de colonnes restantes : 11\n"
     ]
    }
   ],
   "source": [
    "#TODO:\n",
    "\n",
    "columns_to_keep = ['Year', 'LocationAbbr','Class','Topic','Question','Data_Value_Unit','Data_Value','StratificationCategory1','Stratification1','StratificationCategory2','Stratification2']\n",
    "df = df[columns_to_keep]\n",
    "num_columns = df.shape[1]\n",
    "print(f\"Nombre de colonnes restantes : {num_columns}\")"
   ]
  },
  {
   "cell_type": "markdown",
   "metadata": {
    "id": "gMy_IkMd7j2w"
   },
   "source": [
    "### E)\n",
    "\n",
    "Comme vu dans le module 1, le prétraitement des données consiste à gérer les défauts des données collectées, comme les valeurs nulles. La colonne `Data_Value` est importante pour notre analyse.\n",
    "\n",
    "Vérifiez donc s'il existe des données manquantes dans la colonne `Data_Value`. Quel est le pourcentage de valeurs manquantes ? <b>(3 points)</b>"
   ]
  },
  {
   "cell_type": "code",
   "execution_count": 156,
   "metadata": {
    "id": "6RbAFSC37j2w",
    "ExecuteTime": {
     "end_time": "2025-02-03T21:54:07.790953400Z",
     "start_time": "2025-02-03T21:54:07.756615500Z"
    }
   },
   "outputs": [
    {
     "name": "stdout",
     "output_type": "stream",
     "text": [
      "Existe-il des valeurs manquantes ? oui \n",
      " Pourcentages de valeurs manquantes 0.32%\n"
     ]
    }
   ],
   "source": [
    "#TODO:\n",
    "Nan_values  =  'oui' if df['Data_Value'].isna().any() else 'non' \n",
    "Nan_values_per = df['Data_Value'].isna().sum() /len(df['Data_Value'])\n",
    "\n",
    "print(f'Existe-il des valeurs manquantes ? {Nan_values} \\n '\n",
    "      f'Pourcentages de valeurs manquantes {Nan_values_per:.2f}%')"
   ]
  },
  {
   "cell_type": "markdown",
   "metadata": {
    "id": "cfLnrzgH7j2w"
   },
   "source": [
    "\n",
    "### F)\n",
    "Deux façons de traiter les données manquantes: les remplacer par la valeur médiane ou les éliminer complètement.\n",
    "\n",
    "Il n’existe pas de solution **unique ou meilleure**. Tout dépend de l’analyse effectuée. Il est essentiel d’examiner les effets de chacun de ces choix sur l’analyse ultérieure. C’est pourquoi, dans ce TP, nous essayerons les deux méthodes.\n",
    "\n",
    "Vous devez donc:\n",
    "\n",
    "1. Créez deux copies de l'ensemble de données.\n",
    "2. Supprimez les valeurs manquantes d'une des copies.\n",
    "3. Remplacez les valeurs manquantes d'une autre copie par la médiane.\n",
    "\n",
    "Affichez les nouveaux dataframes. Vous devriez avoir autour de 186595 lignes pour l'un et 274881 lignes pour l'autre. <b>(4 points)</b>"
   ]
  },
  {
   "cell_type": "code",
   "execution_count": 157,
   "metadata": {
    "id": "SkCA_UQx7j2w",
    "ExecuteTime": {
     "end_time": "2025-02-03T21:54:07.813468400Z",
     "start_time": "2025-02-03T21:54:07.763879800Z"
    }
   },
   "outputs": [
    {
     "name": "stdout",
     "output_type": "stream",
     "text": [
      "Nombre de lignes après suppression des valeurs manquantes : 186595\n",
      "Nombre de lignes après remplacement par la médiane : 274881\n"
     ]
    }
   ],
   "source": [
    "#TODO:\n",
    " \n",
    "df_filled = df.copy()  \n",
    "df_dropped = df.copy()\n",
    "\n",
    "df_dropped = df_dropped[df_dropped['Data_Value'].isna() == False]\n",
    "df_filled['Data_Value'].fillna(df_filled['Data_Value'].median(), inplace=True)\n",
    "\n",
    "\n",
    "rows_dropped = df_dropped.shape[0]\n",
    "rows_filled = df_filled.shape[0]\n",
    "\n",
    "print(f\"Nombre de lignes après suppression des valeurs manquantes : {rows_dropped}\")\n",
    "print(f\"Nombre de lignes après remplacement par la médiane : {rows_filled}\")"
   ]
  },
  {
   "cell_type": "code",
   "execution_count": 158,
   "outputs": [
    {
     "data": {
      "text/plain": "        Year LocationAbbr                                Class  \\\n0       2022           PA                        Mental Health   \n1       2022           SD                        Mental Health   \n2       2022           ID                        Mental Health   \n3       2022           MD                        Mental Health   \n4       2022           WI                        Mental Health   \n...      ...          ...                                  ...   \n284137  2016           WI              Screenings and Vaccines   \n284138  2017           WY                       Overall Health   \n284139  2015           WY                    Cognitive Decline   \n284140  2019           WV                       Overall Health   \n284141  2015           WY  Nutrition/Physical Activity/Obesity   \n\n                                                    Topic  \\\n0                                Frequent mental distress   \n1                                Frequent mental distress   \n2                                Frequent mental distress   \n3                                Frequent mental distress   \n4                                Frequent mental distress   \n...                                                   ...   \n284137                        Colorectal cancer screening   \n284138  Fair or poor health among older adults with ar...   \n284139  Talked with health care professional about sub...   \n284140  Disability status, including sensory or mobili...   \n284141                  Eating 3 or more vegetables daily   \n\n                                                 Question Data_Value_Unit  \\\n0       Percentage of older adults who are experiencin...               %   \n1       Percentage of older adults who are experiencin...               %   \n2       Percentage of older adults who are experiencin...               %   \n3       Percentage of older adults who are experiencin...               %   \n4       Percentage of older adults who are experiencin...               %   \n...                                                   ...             ...   \n284137  Percentage of older adults who had either a ho...               %   \n284138  Fair or poor health among older adults with do...               %   \n284139  Percentage of older adults with subjective cog...               %   \n284140  Percentage of older adults who report having a...               %   \n284141  Percentage of older adults who are eating 3 or...               %   \n\n        Data_Value StratificationCategory1    Stratification1  \\\n0             33.0               Age Group        50-64 years   \n1             33.0               Age Group  65 years or older   \n2             33.0               Age Group  65 years or older   \n3              9.0               Age Group  65 years or older   \n4              5.6               Age Group  65 years or older   \n...            ...                     ...                ...   \n284137        70.7               Age Group            Overall   \n284138        33.0               Age Group        50-64 years   \n284139        33.0               Age Group            Overall   \n284140        33.0               Age Group  65 years or older   \n284141        33.0               Age Group        50-64 years   \n\n       StratificationCategory2           Stratification2  \n0               Race/Ethnicity  Native Am/Alaskan Native  \n1               Race/Ethnicity    Asian/Pacific Islander  \n2               Race/Ethnicity       Black, non-Hispanic  \n3               Race/Ethnicity       Black, non-Hispanic  \n4                       Gender                      Male  \n...                        ...                       ...  \n284137          Race/Ethnicity       Black, non-Hispanic  \n284138          Race/Ethnicity                  Hispanic  \n284139          Race/Ethnicity    Asian/Pacific Islander  \n284140          Race/Ethnicity                  Hispanic  \n284141          Race/Ethnicity  Native Am/Alaskan Native  \n\n[274881 rows x 11 columns]",
      "text/html": "<div>\n<style scoped>\n    .dataframe tbody tr th:only-of-type {\n        vertical-align: middle;\n    }\n\n    .dataframe tbody tr th {\n        vertical-align: top;\n    }\n\n    .dataframe thead th {\n        text-align: right;\n    }\n</style>\n<table border=\"1\" class=\"dataframe\">\n  <thead>\n    <tr style=\"text-align: right;\">\n      <th></th>\n      <th>Year</th>\n      <th>LocationAbbr</th>\n      <th>Class</th>\n      <th>Topic</th>\n      <th>Question</th>\n      <th>Data_Value_Unit</th>\n      <th>Data_Value</th>\n      <th>StratificationCategory1</th>\n      <th>Stratification1</th>\n      <th>StratificationCategory2</th>\n      <th>Stratification2</th>\n    </tr>\n  </thead>\n  <tbody>\n    <tr>\n      <th>0</th>\n      <td>2022</td>\n      <td>PA</td>\n      <td>Mental Health</td>\n      <td>Frequent mental distress</td>\n      <td>Percentage of older adults who are experiencin...</td>\n      <td>%</td>\n      <td>33.0</td>\n      <td>Age Group</td>\n      <td>50-64 years</td>\n      <td>Race/Ethnicity</td>\n      <td>Native Am/Alaskan Native</td>\n    </tr>\n    <tr>\n      <th>1</th>\n      <td>2022</td>\n      <td>SD</td>\n      <td>Mental Health</td>\n      <td>Frequent mental distress</td>\n      <td>Percentage of older adults who are experiencin...</td>\n      <td>%</td>\n      <td>33.0</td>\n      <td>Age Group</td>\n      <td>65 years or older</td>\n      <td>Race/Ethnicity</td>\n      <td>Asian/Pacific Islander</td>\n    </tr>\n    <tr>\n      <th>2</th>\n      <td>2022</td>\n      <td>ID</td>\n      <td>Mental Health</td>\n      <td>Frequent mental distress</td>\n      <td>Percentage of older adults who are experiencin...</td>\n      <td>%</td>\n      <td>33.0</td>\n      <td>Age Group</td>\n      <td>65 years or older</td>\n      <td>Race/Ethnicity</td>\n      <td>Black, non-Hispanic</td>\n    </tr>\n    <tr>\n      <th>3</th>\n      <td>2022</td>\n      <td>MD</td>\n      <td>Mental Health</td>\n      <td>Frequent mental distress</td>\n      <td>Percentage of older adults who are experiencin...</td>\n      <td>%</td>\n      <td>9.0</td>\n      <td>Age Group</td>\n      <td>65 years or older</td>\n      <td>Race/Ethnicity</td>\n      <td>Black, non-Hispanic</td>\n    </tr>\n    <tr>\n      <th>4</th>\n      <td>2022</td>\n      <td>WI</td>\n      <td>Mental Health</td>\n      <td>Frequent mental distress</td>\n      <td>Percentage of older adults who are experiencin...</td>\n      <td>%</td>\n      <td>5.6</td>\n      <td>Age Group</td>\n      <td>65 years or older</td>\n      <td>Gender</td>\n      <td>Male</td>\n    </tr>\n    <tr>\n      <th>...</th>\n      <td>...</td>\n      <td>...</td>\n      <td>...</td>\n      <td>...</td>\n      <td>...</td>\n      <td>...</td>\n      <td>...</td>\n      <td>...</td>\n      <td>...</td>\n      <td>...</td>\n      <td>...</td>\n    </tr>\n    <tr>\n      <th>284137</th>\n      <td>2016</td>\n      <td>WI</td>\n      <td>Screenings and Vaccines</td>\n      <td>Colorectal cancer screening</td>\n      <td>Percentage of older adults who had either a ho...</td>\n      <td>%</td>\n      <td>70.7</td>\n      <td>Age Group</td>\n      <td>Overall</td>\n      <td>Race/Ethnicity</td>\n      <td>Black, non-Hispanic</td>\n    </tr>\n    <tr>\n      <th>284138</th>\n      <td>2017</td>\n      <td>WY</td>\n      <td>Overall Health</td>\n      <td>Fair or poor health among older adults with ar...</td>\n      <td>Fair or poor health among older adults with do...</td>\n      <td>%</td>\n      <td>33.0</td>\n      <td>Age Group</td>\n      <td>50-64 years</td>\n      <td>Race/Ethnicity</td>\n      <td>Hispanic</td>\n    </tr>\n    <tr>\n      <th>284139</th>\n      <td>2015</td>\n      <td>WY</td>\n      <td>Cognitive Decline</td>\n      <td>Talked with health care professional about sub...</td>\n      <td>Percentage of older adults with subjective cog...</td>\n      <td>%</td>\n      <td>33.0</td>\n      <td>Age Group</td>\n      <td>Overall</td>\n      <td>Race/Ethnicity</td>\n      <td>Asian/Pacific Islander</td>\n    </tr>\n    <tr>\n      <th>284140</th>\n      <td>2019</td>\n      <td>WV</td>\n      <td>Overall Health</td>\n      <td>Disability status, including sensory or mobili...</td>\n      <td>Percentage of older adults who report having a...</td>\n      <td>%</td>\n      <td>33.0</td>\n      <td>Age Group</td>\n      <td>65 years or older</td>\n      <td>Race/Ethnicity</td>\n      <td>Hispanic</td>\n    </tr>\n    <tr>\n      <th>284141</th>\n      <td>2015</td>\n      <td>WY</td>\n      <td>Nutrition/Physical Activity/Obesity</td>\n      <td>Eating 3 or more vegetables daily</td>\n      <td>Percentage of older adults who are eating 3 or...</td>\n      <td>%</td>\n      <td>33.0</td>\n      <td>Age Group</td>\n      <td>50-64 years</td>\n      <td>Race/Ethnicity</td>\n      <td>Native Am/Alaskan Native</td>\n    </tr>\n  </tbody>\n</table>\n<p>274881 rows × 11 columns</p>\n</div>"
     },
     "execution_count": 158,
     "metadata": {},
     "output_type": "execute_result"
    }
   ],
   "source": [
    "df_filled"
   ],
   "metadata": {
    "collapsed": false,
    "ExecuteTime": {
     "end_time": "2025-02-03T21:54:07.824689900Z",
     "start_time": "2025-02-03T21:54:07.814472500Z"
    }
   }
  },
  {
   "cell_type": "code",
   "execution_count": 159,
   "outputs": [
    {
     "data": {
      "text/plain": "        Year LocationAbbr                                Class  \\\n3       2022           MD                        Mental Health   \n4       2022           WI                        Mental Health   \n6       2022           OK                        Mental Health   \n7       2022           PA                        Mental Health   \n8       2022           AZ                       Overall Health   \n...      ...          ...                                  ...   \n284131  2015           WI                    Cognitive Decline   \n284132  2020           US                           Caregiving   \n284134  2016           WV  Nutrition/Physical Activity/Obesity   \n284135  2017           WV                       Overall Health   \n284137  2016           WI              Screenings and Vaccines   \n\n                                                    Topic  \\\n3                                Frequent mental distress   \n4                                Frequent mental distress   \n6                                Frequent mental distress   \n7                                Frequent mental distress   \n8               Recent activity limitations in past month   \n...                                                   ...   \n284131  Need assistance with day-to-day activities bec...   \n284132  Provide care for someone with cognitive impair...   \n284134                                            Obesity   \n284135                       Arthritis among older adults   \n284137                        Colorectal cancer screening   \n\n                                                 Question Data_Value_Unit  \\\n3       Percentage of older adults who are experiencin...               %   \n4       Percentage of older adults who are experiencin...               %   \n6       Percentage of older adults who are experiencin...               %   \n7       Percentage of older adults who are experiencin...               %   \n8       Mean number of days with activity limitations ...          Number   \n...                                                   ...             ...   \n284131  Percentage of older adults who reported that a...               %   \n284132  Percentage of older adults who provided care f...               %   \n284134  Percentage of older adults who are currently o...               %   \n284135  Percentage of older adults ever told they have...               %   \n284137  Percentage of older adults who had either a ho...               %   \n\n        Data_Value StratificationCategory1    Stratification1  \\\n3              9.0               Age Group  65 years or older   \n4              5.6               Age Group  65 years or older   \n6             21.5               Age Group            Overall   \n7             10.0               Age Group            Overall   \n8              6.1               Age Group  65 years or older   \n...            ...                     ...                ...   \n284131        29.2               Age Group        50-64 years   \n284132        28.5               Age Group  65 years or older   \n284134        44.5               Age Group        50-64 years   \n284135        57.7               Age Group            Overall   \n284137        70.7               Age Group            Overall   \n\n       StratificationCategory2           Stratification2  \n3               Race/Ethnicity       Black, non-Hispanic  \n4                       Gender                      Male  \n6               Race/Ethnicity  Native Am/Alaskan Native  \n7               Race/Ethnicity       White, non-Hispanic  \n8               Race/Ethnicity       White, non-Hispanic  \n...                        ...                       ...  \n284131                  Gender                    Female  \n284132          Race/Ethnicity                  Hispanic  \n284134                  Gender                    Female  \n284135                     NaN                       NaN  \n284137          Race/Ethnicity       Black, non-Hispanic  \n\n[186595 rows x 11 columns]",
      "text/html": "<div>\n<style scoped>\n    .dataframe tbody tr th:only-of-type {\n        vertical-align: middle;\n    }\n\n    .dataframe tbody tr th {\n        vertical-align: top;\n    }\n\n    .dataframe thead th {\n        text-align: right;\n    }\n</style>\n<table border=\"1\" class=\"dataframe\">\n  <thead>\n    <tr style=\"text-align: right;\">\n      <th></th>\n      <th>Year</th>\n      <th>LocationAbbr</th>\n      <th>Class</th>\n      <th>Topic</th>\n      <th>Question</th>\n      <th>Data_Value_Unit</th>\n      <th>Data_Value</th>\n      <th>StratificationCategory1</th>\n      <th>Stratification1</th>\n      <th>StratificationCategory2</th>\n      <th>Stratification2</th>\n    </tr>\n  </thead>\n  <tbody>\n    <tr>\n      <th>3</th>\n      <td>2022</td>\n      <td>MD</td>\n      <td>Mental Health</td>\n      <td>Frequent mental distress</td>\n      <td>Percentage of older adults who are experiencin...</td>\n      <td>%</td>\n      <td>9.0</td>\n      <td>Age Group</td>\n      <td>65 years or older</td>\n      <td>Race/Ethnicity</td>\n      <td>Black, non-Hispanic</td>\n    </tr>\n    <tr>\n      <th>4</th>\n      <td>2022</td>\n      <td>WI</td>\n      <td>Mental Health</td>\n      <td>Frequent mental distress</td>\n      <td>Percentage of older adults who are experiencin...</td>\n      <td>%</td>\n      <td>5.6</td>\n      <td>Age Group</td>\n      <td>65 years or older</td>\n      <td>Gender</td>\n      <td>Male</td>\n    </tr>\n    <tr>\n      <th>6</th>\n      <td>2022</td>\n      <td>OK</td>\n      <td>Mental Health</td>\n      <td>Frequent mental distress</td>\n      <td>Percentage of older adults who are experiencin...</td>\n      <td>%</td>\n      <td>21.5</td>\n      <td>Age Group</td>\n      <td>Overall</td>\n      <td>Race/Ethnicity</td>\n      <td>Native Am/Alaskan Native</td>\n    </tr>\n    <tr>\n      <th>7</th>\n      <td>2022</td>\n      <td>PA</td>\n      <td>Mental Health</td>\n      <td>Frequent mental distress</td>\n      <td>Percentage of older adults who are experiencin...</td>\n      <td>%</td>\n      <td>10.0</td>\n      <td>Age Group</td>\n      <td>Overall</td>\n      <td>Race/Ethnicity</td>\n      <td>White, non-Hispanic</td>\n    </tr>\n    <tr>\n      <th>8</th>\n      <td>2022</td>\n      <td>AZ</td>\n      <td>Overall Health</td>\n      <td>Recent activity limitations in past month</td>\n      <td>Mean number of days with activity limitations ...</td>\n      <td>Number</td>\n      <td>6.1</td>\n      <td>Age Group</td>\n      <td>65 years or older</td>\n      <td>Race/Ethnicity</td>\n      <td>White, non-Hispanic</td>\n    </tr>\n    <tr>\n      <th>...</th>\n      <td>...</td>\n      <td>...</td>\n      <td>...</td>\n      <td>...</td>\n      <td>...</td>\n      <td>...</td>\n      <td>...</td>\n      <td>...</td>\n      <td>...</td>\n      <td>...</td>\n      <td>...</td>\n    </tr>\n    <tr>\n      <th>284131</th>\n      <td>2015</td>\n      <td>WI</td>\n      <td>Cognitive Decline</td>\n      <td>Need assistance with day-to-day activities bec...</td>\n      <td>Percentage of older adults who reported that a...</td>\n      <td>%</td>\n      <td>29.2</td>\n      <td>Age Group</td>\n      <td>50-64 years</td>\n      <td>Gender</td>\n      <td>Female</td>\n    </tr>\n    <tr>\n      <th>284132</th>\n      <td>2020</td>\n      <td>US</td>\n      <td>Caregiving</td>\n      <td>Provide care for someone with cognitive impair...</td>\n      <td>Percentage of older adults who provided care f...</td>\n      <td>%</td>\n      <td>28.5</td>\n      <td>Age Group</td>\n      <td>65 years or older</td>\n      <td>Race/Ethnicity</td>\n      <td>Hispanic</td>\n    </tr>\n    <tr>\n      <th>284134</th>\n      <td>2016</td>\n      <td>WV</td>\n      <td>Nutrition/Physical Activity/Obesity</td>\n      <td>Obesity</td>\n      <td>Percentage of older adults who are currently o...</td>\n      <td>%</td>\n      <td>44.5</td>\n      <td>Age Group</td>\n      <td>50-64 years</td>\n      <td>Gender</td>\n      <td>Female</td>\n    </tr>\n    <tr>\n      <th>284135</th>\n      <td>2017</td>\n      <td>WV</td>\n      <td>Overall Health</td>\n      <td>Arthritis among older adults</td>\n      <td>Percentage of older adults ever told they have...</td>\n      <td>%</td>\n      <td>57.7</td>\n      <td>Age Group</td>\n      <td>Overall</td>\n      <td>NaN</td>\n      <td>NaN</td>\n    </tr>\n    <tr>\n      <th>284137</th>\n      <td>2016</td>\n      <td>WI</td>\n      <td>Screenings and Vaccines</td>\n      <td>Colorectal cancer screening</td>\n      <td>Percentage of older adults who had either a ho...</td>\n      <td>%</td>\n      <td>70.7</td>\n      <td>Age Group</td>\n      <td>Overall</td>\n      <td>Race/Ethnicity</td>\n      <td>Black, non-Hispanic</td>\n    </tr>\n  </tbody>\n</table>\n<p>186595 rows × 11 columns</p>\n</div>"
     },
     "execution_count": 159,
     "metadata": {},
     "output_type": "execute_result"
    }
   ],
   "source": [
    "df_dropped"
   ],
   "metadata": {
    "collapsed": false,
    "ExecuteTime": {
     "end_time": "2025-02-03T21:54:07.861888400Z",
     "start_time": "2025-02-03T21:54:07.818652600Z"
    }
   }
  },
  {
   "cell_type": "markdown",
   "metadata": {
    "id": "RMjYOZWo7j2w"
   },
   "source": [
    "**Note :** Pour la suite du travail, chaque étape devra être réalisée sur les deux copies de l'ensemble de données.\n",
    "\n",
    "### G)\n",
    "\n",
    "Plusieurs classes existent. On va évaluer la santé mentale \"Mental Health\".\n",
    "Filtrez les données de la colonne \"class\" pour la valeur \"Mental Health\", puis déterminez la moyenne de `Data_Value` par `Year` et `Topic`. <b>(2 points)</b>"
   ]
  },
  {
   "cell_type": "code",
   "execution_count": 160,
   "metadata": {
    "id": "4wsEHZVo7j2w",
    "ExecuteTime": {
     "end_time": "2025-02-03T21:54:07.898540400Z",
     "start_time": "2025-02-03T21:54:07.830264500Z"
    }
   },
   "outputs": [
    {
     "data": {
      "text/plain": "Year  Topic                           \n2015  Frequent mental distress            18.601085\n      Lifetime diagnosis of depression    23.518149\n2016  Frequent mental distress            18.775391\n      Lifetime diagnosis of depression    22.530156\n2017  Frequent mental distress            18.710397\n      Lifetime diagnosis of depression    23.513863\n2018  Frequent mental distress            18.829718\n      Lifetime diagnosis of depression    22.814389\n2019  Frequent mental distress            18.950699\n      Lifetime diagnosis of depression    22.567108\n2020  Frequent mental distress            19.122905\n      Lifetime diagnosis of depression    22.561561\n2021  Frequent mental distress            19.217354\n      Lifetime diagnosis of depression    22.662039\n2022  Frequent mental distress            19.408730\n      Lifetime diagnosis of depression    23.028531\nName: Data_Value, dtype: float64"
     },
     "execution_count": 160,
     "metadata": {},
     "output_type": "execute_result"
    }
   ],
   "source": [
    "#TODO:\n",
    "## for df_filled \n",
    "mean_filled = df_filled[df_filled['Class'] == 'Mental Health'].groupby(['Year' ,'Topic'])['Data_Value'].mean()\n",
    "mean_filled"
   ]
  },
  {
   "cell_type": "code",
   "execution_count": 161,
   "outputs": [
    {
     "data": {
      "text/plain": "Year  Topic                           \n2015  Frequent mental distress            10.370795\n      Lifetime diagnosis of depression    18.838661\n2016  Frequent mental distress            10.678795\n      Lifetime diagnosis of depression    17.439112\n2017  Frequent mental distress            10.960913\n      Lifetime diagnosis of depression    19.199265\n2018  Frequent mental distress            10.930743\n      Lifetime diagnosis of depression    17.982196\n2019  Frequent mental distress            10.901620\n      Lifetime diagnosis of depression    17.487637\n2020  Frequent mental distress            10.770949\n      Lifetime diagnosis of depression    17.193873\n2021  Frequent mental distress            11.314676\n      Lifetime diagnosis of depression    17.323026\n2022  Frequent mental distress            11.792802\n      Lifetime diagnosis of depression    17.957388\nName: Data_Value, dtype: float64"
     },
     "execution_count": 161,
     "metadata": {},
     "output_type": "execute_result"
    }
   ],
   "source": [
    "# for df_dropped\n",
    "mean_dropped = df_dropped[df_dropped['Class'] == 'Mental Health'].groupby(['Year' ,'Topic'])['Data_Value'].mean()\n",
    "mean_dropped"
   ],
   "metadata": {
    "collapsed": false,
    "ExecuteTime": {
     "end_time": "2025-02-03T21:54:07.917887700Z",
     "start_time": "2025-02-03T21:54:07.854312600Z"
    }
   }
  },
  {
   "cell_type": "markdown",
   "metadata": {
    "id": "znpsydXn7j2w"
   },
   "source": [
    "### H)\n",
    "Il est temps de comparer la suppression des données manquantes vs leur remplacement par la médiane. Pour cela, affichez les valeurs moyennes de `Data_Value` par année, pour chaque groupe et chaque topic. <b>(3 points)</b>"
   ]
  },
  {
   "cell_type": "code",
   "execution_count": 162,
   "outputs": [
    {
     "data": {
      "text/plain": "<Figure size 640x480 with 1 Axes>",
      "image/png": "[encoded data removed]"
     },
     "metadata": {},
     "output_type": "display_data"
    }
   ],
   "source": [
    "#TODO:\n",
    "import matplotlib.pyplot as plt\n",
    "plt.figure( facecolor='white')\n",
    "for i,mean in enumerate([mean_filled , mean_dropped]) : \n",
    "    mean = mean.reset_index()\n",
    "    for topic in mean['Topic'].unique():\n",
    "        subset = mean[mean['Topic'] == topic]\n",
    "        plt.plot(subset['Year'], subset['Data_Value'], linestyle='-', label=topic+f\" (DF {i})\")\n",
    "plt.xlabel('Année')\n",
    "plt.ylabel('Moyenne des données')\n",
    "plt.title('Comparaison de 2 méthodes de gestion des valeurs manquantes')\n",
    "plt.legend( bbox_to_anchor=(1.05, 1), loc='upper left')\n",
    "plt.show()\n"
   ],
   "metadata": {
    "collapsed": false,
    "ExecuteTime": {
     "end_time": "2025-02-03T21:54:08.039972200Z",
     "start_time": "2025-02-03T21:54:07.875380800Z"
    }
   }
  },
  {
   "cell_type": "markdown",
   "metadata": {
    "id": "0rT7_Mm0OIaD"
   },
   "source": [
    "## 3. LIVRABLES\n",
    "Vous devez remettre sur Moodle un fichier compressé .zip contenant :\n",
    "\n",
    "1) Le code : Un Jupyter notebook en Python qui contient le code tel implanté avec les librairies minimales demandées pour ce TP (Python, Pandas, Matplotlib). Le code doit être exécutable sans erreur et accompagné des commentaires appropriés dans le notebook de manière. Tous vos résultats doivent être reproductibles avec le code dans le notebook. *Attention, en aucun cas votre code ne doit avoir été copié de d'ailleurs.*\n",
    "\n",
    "2) Un fichier pdf représentant votre notebook complètement exécuté sous format pdf (obtenu via latex ou imprimé en pdf avec le navigateur). Assurez-vous que le PDF est entièrement lisible. [Tutoriel youtube](https://www.youtube.com/watch?v=-Ti9Mm21uVc)\n",
    "\n",
    "ATTENTION: assurez-vous que votre fichier compressé .zip ne dépasse pas la taille limite acceptée sur Moodle.\n"
   ]
  },
  {
   "cell_type": "markdown",
   "metadata": {
    "id": "JkxB1hfwRQw9"
   },
   "source": [
    "__ÉVALUATION__ <br>\n",
    "Votre TP sera évalué sur les points suivants :\n",
    "\n",
    "__Critères :__\n",
    "1. Implantation correcte et efficace\n",
    "2. Qualité du code (noms significatifs, structure, performance, gestion d’exception, etc.) <b>(1 point)</b>\n",
    "3. Réponses correctes/sensées aux questions de réflexion ou d'analyse\n",
    "\n",
    "__CODE D’HONNEUR__\n",
    "- __Règle 1__:  Le plagiat de code est bien évidemment interdit. Toute utilisation de code doit être référencée adéquatement. Vous __ne pouvez pas__ soumettre un code, écrit par quelqu’un d’autre. Dans le cas contraire, cela sera considéré comme du plagiat.\n",
    "- __Règle 2__: Vous êtes libres de discuter avec d'autres équipes. Cependant, vous ne pouvez en aucun cas incorporer leur code dans votre TP.\n",
    "- __Règle 3__:  Vous ne pouvez pas partager votre code publiquement (par exemple, dans un dépôt GitHub public) tant que le cours n'est pas fini."
   ]
  },
  {
   "cell_type": "markdown",
   "metadata": {
    "id": "6B9vE0FUSGFP"
   },
   "source": [
    "### Conversion en PDF sur Google Colab"
   ]
  },
  {
   "cell_type": "code",
   "execution_count": 163,
   "metadata": {
    "id": "Iig7VzFFN11u",
    "ExecuteTime": {
     "end_time": "2025-02-03T21:54:08.055332900Z",
     "start_time": "2025-02-03T21:54:08.008242900Z"
    }
   },
   "outputs": [],
   "source": [
    "%%capture\n",
    "!sudo apt-get install texlive-xetex texlive-fonts-recommended texlive-plain-generic"
   ]
  },
  {
   "cell_type": "markdown",
   "metadata": {
    "id": "tz0BpqmcU9ZA"
   },
   "source": [
    "Assurez vous d'avoir téléchargé le TP complété en notebook sur votre ordinateur, puis importé ce fichier dans le répertoire \"content\" avant de rouler la ligne suivante."
   ]
  },
  {
   "cell_type": "code",
   "execution_count": null,
   "metadata": {
    "id": "OPSlcCFrSqik"
   },
   "outputs": [],
   "source": [
    "!jupyter nbconvert --to pdf /content/TP1.ipynb"
   ]
  }
 ],
 "metadata": {
  "colab": {
   "provenance": []
  },
  "kernelspec": {
   "name": "python3",
   "language": "python",
   "display_name": "Python 3 (ipykernel)"
  },
  "language_info": {
   "codemirror_mode": {
    "name": "ipython",
    "version": 3
   },
   "file_extension": ".py",
   "mimetype": "text/x-python",
   "name": "python",
   "nbconvert_exporter": "python",
   "pygments_lexer": "ipython3",
   "version": "3.11.9"
  }
 },
 "nbformat": 4,
 "nbformat_minor": 0
}
