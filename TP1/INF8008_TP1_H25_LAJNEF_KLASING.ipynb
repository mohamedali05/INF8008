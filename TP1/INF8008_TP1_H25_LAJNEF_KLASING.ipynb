{
 "cells": [
  {
   "cell_type": "markdown",
   "metadata": {
    "id": "th8R6iFhsz79"
   },
   "source": [
    "## <center> Polytechnique Montréal <br> Département Génie Informatique et Génie Logiciel <br>  INF8008 – Prétraitement de données <br> . <br> TP1  - Analyse descriptive des données<br>  Hiver 2025 <br> . <br> 20 janvier 2025 </center>"
   ]
  },
  {
   "cell_type": "markdown",
   "metadata": {
    "id": "4-uCAmWYtjG8"
   },
   "source": [
    "## Introduction\n",
    "\n",
    "Le TD1 porte sur l'analyse descriptive de données.  Nous survolons l'utilisation de fonctions de base de Pandas et de l'analyse de données numériques et de leur visualisation.\n",
    "\n",
    "Les données du fichier <b> ntsb-accidents.csv </b> proviennent d'une base de données sur les accidents d’aviation provenant du <a href = https://carol.ntsb.gov> National Transportation Safety Board </a>. Nous nous en inspirerons pour le travail des TPs de cette session.\n",
    "\n",
    "Les champs du fichier de données <b> ntsb-accidents.csv </b> sont les suivants :\n",
    "\n",
    "- **event_id** : Identifiant unique de l'événement (souvent un code de référence pour suivre chaque cas).\n",
    "- **ntsb_make** : Fabricant de l'appareil impliqué dans l'événement (exemple : BELL, ROBINSON).\n",
    "- **ntsb_model** : Modèle spécifique de l'appareil (exemple : R22 BETA, R44).\n",
    "- **ntsb_number** : Code d'identification de l'incident assigné par la NTSB.\n",
    "- **year** : Année où l'événement a eu lieu.\n",
    "- **date** : Date et heure exactes de l'événement (année/mois/jour heure:minute:seconde).\n",
    "- **city** : Ville où l'événement s'est produit.\n",
    "- **state** : État ou province où l'événement s'est produit.\n",
    "- **country** : Pays où l'événement a eu lieu.\n",
    "- **total_fatalities** : Nombre total de décès associés à l'incident.\n",
    "- **latimes_make** : Fabricant simplifié utilisé dans les rapports (exemple : BELL, ROBINSON).\n",
    "- **latimes_model** : Modèle simplifié utilisé dans les rapports (exemple : R22, 369).\n",
    "- **latimes_make_and_model** : Combinaison du fabricant et du modèle pour décrire l'appareil de manière concise (exemple : BELL 407, ROBINSON R44).\n",
    "\n"
   ]
  },
  {
   "cell_type": "markdown",
   "metadata": {
    "id": "jSAmD2Iuuxds"
   },
   "source": [
    "Les librairies python qui seront à utiliser pour ce TP sont les suivantes:\n",
    "- [pandas](https://pandas.pydata.org/docs/user_guide/index.html)\n",
    "- [matplotlib](https://matplotlib.org/stable/users/explain/quick_start.html)\n",
    "\n",
    "\n"
   ]
  },
  {
   "cell_type": "code",
   "execution_count": 1,
   "metadata": {
    "id": "Yowt8NL4v29E",
    "ExecuteTime": {
     "end_time": "2025-02-01T21:41:21.824269400Z",
     "start_time": "2025-02-01T21:41:20.879529500Z"
    }
   },
   "outputs": [],
   "source": [
    "import pandas as pd"
   ]
  },
  {
   "cell_type": "markdown",
   "metadata": {
    "id": "6zP9EwsKve8l"
   },
   "source": [
    "## 1. Analyse des données numériques\n",
    "\n",
    "\n",
    "### Q1\n",
    "À l'aide de Pandas, chargez les données dans une variable nommée 'df'. Quelle est la dimension de 'df'? Combien y a-t-il de lignes et de colonnes? <b>(2 points)</b>"
   ]
  },
  {
   "cell_type": "code",
   "execution_count": 2,
   "metadata": {
    "colab": {
     "base_uri": "https://localhost:8080/",
     "height": 597
    },
    "id": "6JJzhtUMyzuC",
    "outputId": "c971e578-3b35-4555-d08f-7df41a83794f",
    "ExecuteTime": {
     "end_time": "2025-02-01T21:43:28.204510700Z",
     "start_time": "2025-02-01T21:43:28.179112900Z"
    }
   },
   "outputs": [],
   "source": [
    "#TODO: Chargement et affichage de df\n",
    "df = pd.read_csv('ntsb-accidents.csv') "
   ]
  },
  {
   "cell_type": "code",
   "execution_count": 3,
   "metadata": {
    "colab": {
     "base_uri": "https://localhost:8080/"
    },
    "id": "RRr24fyJsmzX",
    "outputId": "795df170-be7b-47cd-d23d-d7459369a841",
    "ExecuteTime": {
     "end_time": "2025-02-01T21:43:29.534592300Z",
     "start_time": "2025-02-01T21:43:29.511082600Z"
    }
   },
   "outputs": [
    {
     "name": "stdout",
     "output_type": "stream",
     "text": [
      "la dimension de df : (163, 13) \n",
      "nombre de lignes : 163 \n",
      "nombre de colonnes : 13\n"
     ]
    }
   ],
   "source": [
    "#TODO: Complétez ce code afin d'afficher les bonnes informations dans les \"print\".\n",
    "\n",
    "print(f'la dimension de df : {df.shape} \\n'\n",
    "      f'nombre de lignes : {len(df)} \\n'\n",
    "      f'nombre de colonnes : {len(df.columns)}')\n",
    "\n"
   ]
  },
  {
   "cell_type": "markdown",
   "metadata": {
    "id": "gyXbJPKzyDbw"
   },
   "source": [
    "### Q2\n",
    "Quelle est l'intervalle d'années et l'ensemble des fabricants et modèles d'hélicoptères compris dans le jeu de données?<b>(1 point)</b>"
   ]
  },
  {
   "cell_type": "code",
   "execution_count": 4,
   "metadata": {
    "colab": {
     "base_uri": "https://localhost:8080/"
    },
    "id": "BwUGtes-v0n0",
    "outputId": "268da871-7e35-4f88-a414-44775837486f",
    "ExecuteTime": {
     "end_time": "2025-02-01T21:43:32.339263300Z",
     "start_time": "2025-02-01T21:43:32.327967200Z"
    }
   },
   "outputs": [
    {
     "name": "stdout",
     "output_type": "stream",
     "text": [
      "intervalle d'année [2006  , 2016] \n",
      "ensemble des fabricants : {'MCDONNELL DOUGLAS', 'EUROCOPTER FRANCE', 'BELL HELICOPTER', 'ROBINSON HELICOPTER COMPANY', 'EUROCOPTER', 'AEROSPATIALE', 'BELL HELICOPTER TEXTRON', 'AGUSTA SPA', 'HUGHES', 'AIRBUS HELICOPTERS INC', 'MCDONNELL DOUGLAS HELICOPTER', 'AIRBUS', 'EUROCOPTER DEUTSCHLAND GMBH', 'ROBINSON HELICOPTER', 'AMERICAN EUROCOPTER LLC', 'BELL HELICOPTER TEXTRON CANADA', 'AIRBUS HELICOPTERS (EUROCOPTE', 'SIKORSKY', 'AMERICAN EUROCOPTER CORP', 'AIRBUS HELICOPTERS', 'ROBINSON', 'MCDONNELL DOUGLAS HELI CO', 'BELL', 'MD HELICOPTERS INC', 'SCHWEIZER'}\n",
      "ensemble des modèles : {'206L-4', 'AS350-B2', '369E', '369F', '206', 'AS350B2', 'R22', 'AS 350 BA', 'EC-130-B4', 'AS350BA', '369A', 'AS 350 B2', '369', '206L-3', 'AS350 B2', 'R44 II', 'R44 RAVEN II', '206L1', 'AS-350', 'R22 BETA II', '269 C-1', '206B', 'AS350B3', 'AS350B3E', '206-L4', '269C 1', '369D/500D', '407', '369D', 'S-76A++', 'R22 BETA', 'A109E', 'EC135', '206L 1', '206L 3', '206 L-1', '269C-1', 'AS 350 B3', 'R44', 'AS350', 'AS-350-B3', '206A', '206 L4', '369FF', 'AS350B', '269C', '206L-1', 'EC 135 T2+', 'R-44', 'EC-135P1', 'EC 135 P2', 'S-76C', 'AS-350-D'}\n"
     ]
    }
   ],
   "source": [
    "#TODO:\n",
    "print(f\"intervalle d'année [{min(df['year'])}  , {max(df['year'])}] \")\n",
    "fabricant = set(df['ntsb_model'])\n",
    "print(f\"ensemble des fabricants : {set(df['ntsb_make'])}\")\n",
    "print(f\"ensemble des modèles : {set(df['ntsb_model'])}\")\n",
    "\n"
   ]
  },
  {
   "cell_type": "markdown",
   "metadata": {
    "id": "arqXC2AS-YwE"
   },
   "source": [
    "### Q3\n",
    "Combien de décès y a-t-il en moyenne? <b>(1 point)</b>"
   ]
  },
  {
   "cell_type": "code",
   "execution_count": 5,
   "metadata": {
    "colab": {
     "base_uri": "https://localhost:8080/"
    },
    "id": "w6vAYZ9I-YwF",
    "outputId": "dea4e3e0-70b9-4a0b-f0a8-da6eb8326bcd",
    "ExecuteTime": {
     "end_time": "2025-02-01T21:43:34.762927400Z",
     "start_time": "2025-02-01T21:43:34.752110Z"
    }
   },
   "outputs": [
    {
     "name": "stdout",
     "output_type": "stream",
     "text": [
      "nombre moyen de décès 2.061\n"
     ]
    }
   ],
   "source": [
    "#TODO:\n",
    "print(f\"nombre moyen de décès {round(df['total_fatalities'].mean() ,3) }\")\n"
   ]
  },
  {
   "cell_type": "markdown",
   "metadata": {
    "id": "hATy_JNm0kQH"
   },
   "source": [
    "### Q4\n",
    "Combien d'**accidents** y a-t-il eu pour chaque combinaison de fabricant et modèle d'hélicoptère? Créez un tableau de fréquence du nombre d'accidents par combinaison de fabricant et modèle.  <b>(3 points)</b>\n"
   ]
  },
  {
   "cell_type": "code",
   "execution_count": 6,
   "metadata": {
    "colab": {
     "base_uri": "https://localhost:8080/"
    },
    "id": "fu8P0Y8m37B-",
    "outputId": "ec64fabb-c25a-4666-b741-135fc5b26f96",
    "ExecuteTime": {
     "end_time": "2025-02-01T21:43:37.040700500Z",
     "start_time": "2025-02-01T21:43:37.015788900Z"
    }
   },
   "outputs": [
    {
     "data": {
      "text/plain": "       ntsb_make ntsb_model  accident_count\n0   AEROSPATIALE   AS-350-D               1\n1   AEROSPATIALE      AS350               1\n2   AEROSPATIALE     AS350B               1\n3   AEROSPATIALE    AS350BA               2\n4     AGUSTA SPA      A109E               2\n..           ...        ...             ...\n66     SCHWEIZER       269C               1\n67     SCHWEIZER     269C 1               1\n68     SCHWEIZER     269C-1               2\n69      SIKORSKY    S-76A++               1\n70      SIKORSKY      S-76C               1\n\n[71 rows x 3 columns]",
      "text/html": "<div>\n<style scoped>\n    .dataframe tbody tr th:only-of-type {\n        vertical-align: middle;\n    }\n\n    .dataframe tbody tr th {\n        vertical-align: top;\n    }\n\n    .dataframe thead th {\n        text-align: right;\n    }\n</style>\n<table border=\"1\" class=\"dataframe\">\n  <thead>\n    <tr style=\"text-align: right;\">\n      <th></th>\n      <th>ntsb_make</th>\n      <th>ntsb_model</th>\n      <th>accident_count</th>\n    </tr>\n  </thead>\n  <tbody>\n    <tr>\n      <th>0</th>\n      <td>AEROSPATIALE</td>\n      <td>AS-350-D</td>\n      <td>1</td>\n    </tr>\n    <tr>\n      <th>1</th>\n      <td>AEROSPATIALE</td>\n      <td>AS350</td>\n      <td>1</td>\n    </tr>\n    <tr>\n      <th>2</th>\n      <td>AEROSPATIALE</td>\n      <td>AS350B</td>\n      <td>1</td>\n    </tr>\n    <tr>\n      <th>3</th>\n      <td>AEROSPATIALE</td>\n      <td>AS350BA</td>\n      <td>2</td>\n    </tr>\n    <tr>\n      <th>4</th>\n      <td>AGUSTA SPA</td>\n      <td>A109E</td>\n      <td>2</td>\n    </tr>\n    <tr>\n      <th>...</th>\n      <td>...</td>\n      <td>...</td>\n      <td>...</td>\n    </tr>\n    <tr>\n      <th>66</th>\n      <td>SCHWEIZER</td>\n      <td>269C</td>\n      <td>1</td>\n    </tr>\n    <tr>\n      <th>67</th>\n      <td>SCHWEIZER</td>\n      <td>269C 1</td>\n      <td>1</td>\n    </tr>\n    <tr>\n      <th>68</th>\n      <td>SCHWEIZER</td>\n      <td>269C-1</td>\n      <td>2</td>\n    </tr>\n    <tr>\n      <th>69</th>\n      <td>SIKORSKY</td>\n      <td>S-76A++</td>\n      <td>1</td>\n    </tr>\n    <tr>\n      <th>70</th>\n      <td>SIKORSKY</td>\n      <td>S-76C</td>\n      <td>1</td>\n    </tr>\n  </tbody>\n</table>\n<p>71 rows × 3 columns</p>\n</div>"
     },
     "execution_count": 6,
     "metadata": {},
     "output_type": "execute_result"
    }
   ],
   "source": [
    "#TODO:\n",
    "df.groupby(['ntsb_make', 'ntsb_model']).size().reset_index(name='accident_count')"
   ]
  },
  {
   "cell_type": "markdown",
   "metadata": {
    "id": "24Ca2hNYFu6u"
   },
   "source": [
    "### Q5\n",
    "Déterminez la moyenne, la médiane et l'écart-type du nombre de décès. Dans un premier temps, fournissez les statistiques avec AIRBUS 350.  Puis, dans un second temps, fournissez les statistiques avec ROBINSON R44.<b>(3 points)</b>"
   ]
  },
  {
   "cell_type": "code",
   "execution_count": 7,
   "metadata": {
    "colab": {
     "base_uri": "https://localhost:8080/"
    },
    "id": "LDXMzCZH_Zyu",
    "outputId": "9d584485-fa19-485f-8302-9dbca9f1b427",
    "ExecuteTime": {
     "end_time": "2025-02-01T21:43:40.155109400Z",
     "start_time": "2025-02-01T21:43:40.151628800Z"
    }
   },
   "outputs": [
    {
     "name": "stdout",
     "output_type": "stream",
     "text": [
      "Avec AIRBUS 350 : \n",
      "moyenne : 2.793 médiane : 3.0 écart type : 1.634 \n",
      " \n",
      "Avec ROBINSON R44 : \n",
      "moyenne : 1.868 médiane : 2.0 écart type : 0.906\n"
     ]
    }
   ],
   "source": [
    "# Calcul des statistiques pour AIRBUS 350\n",
    "airbus_deaths = df[df['latimes_make_and_model'] == 'AIRBUS 350']['total_fatalities']\n",
    "\n",
    "print(f\"Avec AIRBUS 350 : \\n\"\n",
    "      f\"moyenne : {round(airbus_deaths.mean() , 3) } \"\n",
    "      f\"médiane : {airbus_deaths.median()} \"\n",
    "      f\"écart type : {round(airbus_deaths.std(), 3) } \\n \")\n",
    "\n",
    "# Calcul des statistiques pour ROBINSON R44\n",
    "robinson_deaths = df[df['latimes_make_and_model'] == 'ROBINSON R44']['total_fatalities']\n",
    "\n",
    "print(f\"Avec ROBINSON R44 : \\n\"\n",
    "      f\"moyenne : {round(robinson_deaths.mean(), 3) } \"\n",
    "      f\"médiane : {robinson_deaths.median()} \"\n",
    "      f\"écart type : {round(robinson_deaths.std(),3) }\")"
   ]
  },
  {
   "cell_type": "markdown",
   "metadata": {
    "id": "NN-3hJmH5vU7"
   },
   "source": [
    "### Q6\n",
    "Combien d’accidents ont enregistré plus d’un décès?\n",
    "Combien de décès se sont produits en Californie en 2015? <b>(1 point)</b>"
   ]
  },
  {
   "cell_type": "code",
   "execution_count": 9,
   "metadata": {
    "colab": {
     "base_uri": "https://localhost:8080/"
    },
    "id": "FQgpoppx8GOf",
    "outputId": "9f5557ed-6250-4813-abd4-3a1821453c5f",
    "ExecuteTime": {
     "end_time": "2025-02-01T21:43:50.468804Z",
     "start_time": "2025-02-01T21:43:50.459123500Z"
    }
   },
   "outputs": [
    {
     "name": "stdout",
     "output_type": "stream",
     "text": [
      " nombre d'accidents avec plus d'un décès : 89\n",
      " nombre de décès en californie en 2015: 6\n"
     ]
    }
   ],
   "source": [
    "#TODO:\n",
    "print(f\" nombre d'accidents avec plus d'un décès : {len(df[df['total_fatalities'] > 1 ])}\") \n",
    "print(f\" nombre de décès en californie en 2015: {df[(df['state'] == 'CA') & (df['year'] == 2015)]['total_fatalities'].sum()}\") "
   ]
  },
  {
   "cell_type": "markdown",
   "metadata": {
    "id": "Is2pL61E2cA9"
   },
   "source": [
    "## 2. Visualisation de données"
   ]
  },
  {
   "cell_type": "code",
   "execution_count": 10,
   "metadata": {
    "id": "X_ZqXvKZ1-wB",
    "ExecuteTime": {
     "end_time": "2025-02-01T21:43:53.725632400Z",
     "start_time": "2025-02-01T21:43:53.278493Z"
    }
   },
   "outputs": [],
   "source": [
    "import matplotlib.pyplot as plt"
   ]
  },
  {
   "cell_type": "markdown",
   "metadata": {
    "id": "q2P0oK6KDBCh"
   },
   "source": [
    "### Q7\n",
    "Affichez le nombre de décès par année. Nommez vos axes et donnez un titre à votre graphique. Qu’observez-vous? Quelle année marque le plus de décès? Quelle année marque le moins?<b>(3 points)</b>"
   ]
  },
  {
   "cell_type": "code",
   "execution_count": 28,
   "metadata": {},
   "outputs": [
    {
     "data": {
      "image/png": "[encoded data removed]",
      "text/plain": [
       "<Figure size 1000x600 with 1 Axes>"
      ]
     },
     "metadata": {},
     "output_type": "display_data"
    }
   ],
   "source": [
    "# Groupement des données\n",
    "dec_annees = df.groupby('year')['total_fatalities'].sum()\n",
    "\n",
    "plt.figure(figsize=(10, 6))\n",
    "plt.bar(dec_annees.index, dec_annees.values, color='purple')  \n",
    "\n",
    "\n",
    "plt.xlabel('Année')\n",
    "plt.ylabel('Nombre de décès')\n",
    "plt.title('Nombre de décès par année')\n",
    "plt.grid(axis='y', linestyle='--', alpha=0.7)  \n",
    "\n",
    "# Affichage\n",
    "plt.show()\n"
   ]
  },
  {
   "cell_type": "markdown",
   "metadata": {
    "collapsed": false
   },
   "source": [
    "Il semble que le nombre de décès par année diminue progressivement, sûrement grâce à l'amélioration des normes de sécurité.L'année 2008 semble être la plus élevée en terme de décès. L'année 2016 semble être la moins élevée en terme de décès si l'on suppose que en 2011 les accidents d'aviation. "
   ]
  },
  {
   "cell_type": "markdown",
   "metadata": {
    "id": "9gr4L6CFH2pL"
   },
   "source": [
    "### Q8\n",
    "En utilisant la fonction subplot de matplotlib:\n",
    "\n",
    "1) Affichez le nombre d'accidents par année dans un diagramme à barres.\n",
    "\n",
    "2) Affichez le nombre de décès par année dans un diagramme à barres.\n",
    "\n",
    "Nommez vos axes et donnez un titre à votre graphique.\n",
    "En comparant ceux-ci, observez-vous une relation entre le nombre de décès et d'accidents? Pouvez-vous justifier la cause du nombre de décès minimal de l'année évoquée dans la question 7?  <b>(5 points)</b>"
   ]
  },
  {
   "cell_type": "code",
   "execution_count": 12,
   "metadata": {
    "ExecuteTime": {
     "end_time": "2025-02-01T21:47:19.218881400Z",
     "start_time": "2025-02-01T21:47:18.979399200Z"
    }
   },
   "outputs": [
    {
     "data": {
      "text/plain": "<Figure size 1400x600 with 2 Axes>",
      "image/png": "[encoded data removed]"
     },
     "metadata": {},
     "output_type": "display_data"
    }
   ],
   "source": [
    "acc_annees = df.groupby(['year']).size()\n",
    "years = acc_annees.index  \n",
    "plt.figure(figsize=(14, 6))\n",
    "plt.subplot(1, 2, 1) \n",
    "plt.bar(years, acc_annees.values, color='blue')\n",
    "plt.xlabel('Année')\n",
    "plt.ylabel(\"Nombre d'accidents\")\n",
    "plt.title(\"Nombre d'accidents par année\")\n",
    "plt.subplot(1, 2, 2) \n",
    "plt.bar(years, dec_annees.values, color='red')\n",
    "plt.xlabel('Année')\n",
    "plt.ylabel(\"Nombre de décès\")\n",
    "plt.title(\"Nombre de décès par année\")\n",
    "plt.suptitle(\"Évolution des accidents et des décès par année\", fontsize=14)\n",
    "plt.tight_layout(rect=[0, 0, 1, 1])  \n",
    "plt.show()"
   ]
  },
  {
   "cell_type": "markdown",
   "source": [
    "Le nombre d'accidents par année semble être fortement corrélé au nombre de décès. En effet, une augmentation du nombre d'accidents s'accompagne logiquement d'une hausse du nombre de décès. Il est donc cohérent que l'année 2016, mentionnée dans la question 7, présente le nombre de décès le plus faible."
   ],
   "metadata": {
    "collapsed": false
   }
  },
  {
   "cell_type": "markdown",
   "metadata": {
    "id": "0rT7_Mm0OIaD"
   },
   "source": [
    "## 3. LIVRABLES\n",
    "Vous devez remettre sur Moodle un fichier compressé .zip contenant :\n",
    "\n",
    "1) Le code : Un Jupyter notebook en Python qui contient le code tel implanté avec les librairies minimales demandées pour ce TP (Python, Pandas, Matplotlib). Le code doit être exécutable sans erreur et accompagné des commentaires appropriés dans le notebook de manière. Tous vos résultats doivent être reproductibles avec le code dans le notebook. *Attention, en aucun cas votre code ne doit avoir été copié de d'ailleurs.*\n",
    "\n",
    "2) Un fichier pdf représentant votre notebook complètement exécuté sous format pdf (obtenu via latex ou imprimé en pdf avec le navigateur). Assurez-vous que le PDF est entièrement lisible. [Tutoriel youtube](https://www.youtube.com/watch?v=-Ti9Mm21uVc)\n",
    "\n",
    "ATTENTION: assurez-vous que votre fichier compressé .zip ne dépasse pas la taille limite acceptée sur Moodle.\n"
   ]
  },
  {
   "cell_type": "markdown",
   "metadata": {
    "id": "JkxB1hfwRQw9"
   },
   "source": [
    "__ÉVALUATION__ <br>\n",
    "Votre TP sera évalué sur les points suivants :\n",
    "\n",
    "__Critères :__\n",
    "1. Implantation correcte et efficace\n",
    "2. Qualité du code (noms significatifs, structure, performance, gestion d’exception, etc.) <b>(1 point)</b>\n",
    "3. Réponses correctes/sensées aux questions de réflexion ou d'analyse\n",
    "\n",
    "__CODE D’HONNEUR__\n",
    "- __Règle 1__:  Le plagiat de code est bien évidemment interdit. Toute utilisation de code doit être référencée adéquatement. Vous __ne pouvez pas__ soumettre un code, écrit par quelqu’un d’autre. Dans le cas contraire, cela sera considéré comme du plagiat.\n",
    "- __Règle 2__: Vous êtes libres de discuter avec d'autres équipes. Cependant, vous ne pouvez en aucun cas incorporer leur code dans votre TP.\n",
    "- __Règle 3__:  Vous ne pouvez pas partager votre code publiquement (par exemple, dans un dépôt GitHub public) tant que le cours n'est pas fini."
   ]
  },
  {
   "cell_type": "markdown",
   "metadata": {
    "id": "6B9vE0FUSGFP"
   },
   "source": [
    "### Conversion en PDF sur Google Colab"
   ]
  },
  {
   "cell_type": "code",
   "execution_count": 13,
   "metadata": {
    "id": "Iig7VzFFN11u",
    "ExecuteTime": {
     "end_time": "2025-02-01T21:52:37.424316200Z",
     "start_time": "2025-02-01T21:52:37.401705400Z"
    }
   },
   "outputs": [],
   "source": [
    "%%capture\n",
    "!sudo apt-get install texlive-xetex texlive-fonts-recommended texlive-plain-generic"
   ]
  },
  {
   "cell_type": "markdown",
   "metadata": {
    "id": "tz0BpqmcU9ZA"
   },
   "source": [
    "Assurez vous d'avoir téléchargé le TP complété en notebook sur votre ordinateur, puis importé ce fichier dans le répertoire \"content\" avant de rouler la ligne suivante."
   ]
  },
  {
   "cell_type": "code",
   "execution_count": 15,
   "metadata": {
    "id": "xLFzwcGIbjt1",
    "ExecuteTime": {
     "end_time": "2025-02-01T21:53:00.578429100Z",
     "start_time": "2025-02-01T21:52:58.311917400Z"
    }
   },
   "outputs": [
    {
     "name": "stdout",
     "output_type": "stream",
     "text": [
      "This application is used to convert notebook files (*.ipynb)\n",
      "        to various other formats.\n",
      "\n",
      "        WARNING: THE COMMANDLINE INTERFACE MAY CHANGE IN FUTURE RELEASES.\n",
      "\n",
      "Options\n",
      "=======\n",
      "The options below are convenience aliases to configurable class-options,\n",
      "as listed in the \"Equivalent to\" description-line of the aliases.\n",
      "To see all configurable class-options for some <cmd>, use:\n",
      "    <cmd> --help-all\n",
      "\n",
      "--debug\n",
      "    set log level to logging.DEBUG (maximize logging output)\n",
      "    Equivalent to: [--Application.log_level=10]\n",
      "--show-config\n",
      "    Show the application's configuration (human-readable format)\n",
      "    Equivalent to: [--Application.show_config=True]\n",
      "--show-config-json\n",
      "    Show the application's configuration (json format)\n",
      "    Equivalent to: [--Application.show_config_json=True]\n",
      "--generate-config\n",
      "    generate default config file\n",
      "    Equivalent to: [--JupyterApp.generate_config=True]\n",
      "-y\n",
      "    Answer yes to any questions instead of prompting.\n",
      "    Equivalent to: [--JupyterApp.answer_yes=True]\n",
      "--execute\n",
      "    Execute the notebook prior to export.\n",
      "    Equivalent to: [--ExecutePreprocessor.enabled=True]\n",
      "--allow-errors\n",
      "    Continue notebook execution even if one of the cells throws an error and include the error message in the cell output (the default behaviour is to abort conversion). This flag is only relevant if '--execute' was specified, too.\n",
      "    Equivalent to: [--ExecutePreprocessor.allow_errors=True]\n",
      "--stdin\n",
      "    read a single notebook file from stdin. Write the resulting notebook with default basename 'notebook.*'\n",
      "    Equivalent to: [--NbConvertApp.from_stdin=True]\n",
      "--stdout\n",
      "    Write notebook output to stdout instead of files.\n",
      "    Equivalent to: [--NbConvertApp.writer_class=StdoutWriter]\n",
      "--inplace\n",
      "    Run nbconvert in place, overwriting the existing notebook (only\n",
      "            relevant when converting to notebook format)\n",
      "    Equivalent to: [--NbConvertApp.use_output_suffix=False --NbConvertApp.export_format=notebook --FilesWriter.build_directory=]\n",
      "--clear-output\n",
      "    Clear output of current file and save in place,\n",
      "            overwriting the existing notebook.\n",
      "    Equivalent to: [--NbConvertApp.use_output_suffix=False --NbConvertApp.export_format=notebook --FilesWriter.build_directory= --ClearOutputPreprocessor.enabled=True]\n",
      "--no-prompt\n",
      "    Exclude input and output prompts from converted document.\n",
      "    Equivalent to: [--TemplateExporter.exclude_input_prompt=True --TemplateExporter.exclude_output_prompt=True]\n",
      "--no-input\n",
      "    Exclude input cells and output prompts from converted document.\n",
      "            This mode is ideal for generating code-free reports.\n",
      "    Equivalent to: [--TemplateExporter.exclude_output_prompt=True --TemplateExporter.exclude_input=True --TemplateExporter.exclude_input_prompt=True]\n",
      "--allow-chromium-download\n",
      "    Whether to allow downloading chromium if no suitable version is found on the system.\n",
      "    Equivalent to: [--WebPDFExporter.allow_chromium_download=True]\n",
      "--disable-chromium-sandbox\n",
      "    Disable chromium security sandbox when converting to PDF..\n",
      "    Equivalent to: [--WebPDFExporter.disable_sandbox=True]\n",
      "--show-input\n",
      "    Shows code input. This flag is only useful for dejavu users.\n",
      "    Equivalent to: [--TemplateExporter.exclude_input=False]\n",
      "--embed-images\n",
      "    Embed the images as base64 dataurls in the output. This flag is only useful for the HTML/WebPDF/Slides exports.\n",
      "    Equivalent to: [--HTMLExporter.embed_images=True]\n",
      "--sanitize-html\n",
      "    Whether the HTML in Markdown cells and cell outputs should be sanitized..\n",
      "    Equivalent to: [--HTMLExporter.sanitize_html=True]\n",
      "--log-level=<Enum>\n",
      "    Set the log level by value or name.\n",
      "    Choices: any of [0, 10, 20, 30, 40, 50, 'DEBUG', 'INFO', 'WARN', 'ERROR', 'CRITICAL']\n",
      "    Default: 30\n",
      "    Equivalent to: [--Application.log_level]\n",
      "--config=<Unicode>\n",
      "    Full path of a config file.\n",
      "    Default: ''\n",
      "    Equivalent to: [--JupyterApp.config_file]\n",
      "--to=<Unicode>\n",
      "    The export format to be used, either one of the built-in formats\n",
      "            ['asciidoc', 'custom', 'html', 'latex', 'markdown', 'notebook', 'pdf', 'python', 'qtpdf', 'qtpng', 'rst', 'script', 'slides', 'webpdf']\n",
      "            or a dotted object name that represents the import path for an\n",
      "            ``Exporter`` class\n",
      "    Default: ''\n",
      "    Equivalent to: [--NbConvertApp.export_format]\n",
      "--template=<Unicode>\n",
      "    Name of the template to use\n",
      "    Default: ''\n",
      "    Equivalent to: [--TemplateExporter.template_name]\n",
      "--template-file=<Unicode>\n",
      "    Name of the template file to use\n",
      "    Default: None\n",
      "    Equivalent to: [--TemplateExporter.template_file]\n",
      "--theme=<Unicode>\n",
      "    Template specific theme(e.g. the name of a JupyterLab CSS theme distributed\n",
      "    as prebuilt extension for the lab template)\n",
      "    Default: 'light'\n",
      "    Equivalent to: [--HTMLExporter.theme]\n",
      "--sanitize_html=<Bool>\n",
      "    Whether the HTML in Markdown cells and cell outputs should be sanitized.This\n",
      "    should be set to True by nbviewer or similar tools.\n",
      "    Default: False\n",
      "    Equivalent to: [--HTMLExporter.sanitize_html]\n",
      "--writer=<DottedObjectName>\n",
      "    Writer class used to write the\n",
      "                                        results of the conversion\n",
      "    Default: 'FilesWriter'\n",
      "    Equivalent to: [--NbConvertApp.writer_class]\n",
      "--post=<DottedOrNone>\n",
      "    PostProcessor class used to write the\n",
      "                                        results of the conversion\n",
      "    Default: ''\n",
      "    Equivalent to: [--NbConvertApp.postprocessor_class]\n",
      "--output=<Unicode>\n",
      "    Overwrite base name use for output files.\n",
      "                Supports pattern replacements '{notebook_name}'.\n",
      "    Default: '{notebook_name}'\n",
      "    Equivalent to: [--NbConvertApp.output_base]\n",
      "--output-dir=<Unicode>\n",
      "    Directory to write output(s) to. Defaults\n",
      "                                  to output to the directory of each notebook. To recover\n",
      "                                  previous default behaviour (outputting to the current\n",
      "                                  working directory) use . as the flag value.\n",
      "    Default: ''\n",
      "    Equivalent to: [--FilesWriter.build_directory]\n",
      "--reveal-prefix=<Unicode>\n",
      "    The URL prefix for reveal.js (version 3.x).\n",
      "            This defaults to the reveal CDN, but can be any url pointing to a copy\n",
      "            of reveal.js.\n",
      "            For speaker notes to work, this must be a relative path to a local\n",
      "            copy of reveal.js: e.g., \"reveal.js\".\n",
      "            If a relative path is given, it must be a subdirectory of the\n",
      "            current directory (from which the server is run).\n",
      "            See the usage documentation\n",
      "            (https://nbconvert.readthedocs.io/en/latest/usage.html#reveal-js-html-slideshow)\n",
      "            for more details.\n",
      "    Default: ''\n",
      "    Equivalent to: [--SlidesExporter.reveal_url_prefix]\n",
      "--nbformat=<Enum>\n",
      "    The nbformat version to write.\n",
      "            Use this to downgrade notebooks.\n",
      "    Choices: any of [1, 2, 3, 4]\n",
      "    Default: 4\n",
      "    Equivalent to: [--NotebookExporter.nbformat_version]\n",
      "\n",
      "Examples\n",
      "--------\n",
      "\n",
      "    The simplest way to use nbconvert is\n",
      "\n",
      "            > jupyter nbconvert mynotebook.ipynb --to html\n",
      "\n",
      "            Options include ['asciidoc', 'custom', 'html', 'latex', 'markdown', 'notebook', 'pdf', 'python', 'qtpdf', 'qtpng', 'rst', 'script', 'slides', 'webpdf'].\n",
      "\n",
      "            > jupyter nbconvert --to latex mynotebook.ipynb\n",
      "\n",
      "            Both HTML and LaTeX support multiple output templates. LaTeX includes\n",
      "            'base', 'article' and 'report'.  HTML includes 'basic', 'lab' and\n",
      "            'classic'. You can specify the flavor of the format used.\n",
      "\n",
      "            > jupyter nbconvert --to html --template lab mynotebook.ipynb\n",
      "\n",
      "            You can also pipe the output to stdout, rather than a file\n",
      "\n",
      "            > jupyter nbconvert mynotebook.ipynb --stdout\n",
      "\n",
      "            PDF is generated via latex\n",
      "\n",
      "            > jupyter nbconvert mynotebook.ipynb --to pdf\n",
      "\n",
      "            You can get (and serve) a Reveal.js-powered slideshow\n",
      "\n",
      "            > jupyter nbconvert myslides.ipynb --to slides --post serve\n",
      "\n",
      "            Multiple notebooks can be given at the command line in a couple of\n",
      "            different ways:\n",
      "\n",
      "            > jupyter nbconvert notebook*.ipynb\n",
      "            > jupyter nbconvert notebook1.ipynb notebook2.ipynb\n",
      "\n",
      "            or you can specify the notebooks list in a config file, containing::\n",
      "\n",
      "                c.NbConvertApp.notebooks = [\"my_notebook.ipynb\"]\n",
      "\n",
      "            > jupyter nbconvert --config mycfg.py\n",
      "\n",
      "To see all available configurables, use `--help-all`.\n"
     ]
    },
    {
     "name": "stderr",
     "output_type": "stream",
     "text": [
      "[NbConvertApp] WARNING | pattern 'TP1.ipynb' matched no files\n"
     ]
    }
   ],
   "source": [
    "!jupyter nbconvert --to pdf TP1.ipynb"
   ]
  },
  {
   "cell_type": "code",
   "execution_count": null,
   "outputs": [],
   "source": [],
   "metadata": {
    "collapsed": false
   }
  }
 ],
 "metadata": {
  "colab": {
   "provenance": []
  },
  "kernelspec": {
   "display_name": "Python 3 (ipykernel)",
   "language": "python",
   "name": "python3"
  },
  "language_info": {
   "codemirror_mode": {
    "name": "ipython",
    "version": 3
   },
   "file_extension": ".py",
   "mimetype": "text/x-python",
   "name": "python",
   "nbconvert_exporter": "python",
   "pygments_lexer": "ipython3",
   "version": "3.11.6"
  }
 },
 "nbformat": 4,
 "nbformat_minor": 4
}
