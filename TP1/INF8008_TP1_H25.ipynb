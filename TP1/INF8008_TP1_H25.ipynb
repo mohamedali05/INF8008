{
 "cells": [
  {
   "cell_type": "markdown",
   "metadata": {
    "id": "th8R6iFhsz79"
   },
   "source": [
    "## <center> Polytechnique Montréal <br> Département Génie Informatique et Génie Logiciel <br>  INF8008 – Prétraitement de données <br> . <br> TP1  - Analyse descriptive des données<br>  Hiver 2025 <br> . <br> 20 janvier 2025 </center>"
   ]
  },
  {
   "cell_type": "markdown",
   "metadata": {
    "id": "4-uCAmWYtjG8"
   },
   "source": [
    "## Introduction\n",
    "\n",
    "Le TD1 porte sur l'analyse descriptive de données.  Nous survolons l'utilisation de fonctions de base de Pandas et de l'analyse de données numériques et de leur visualisation.\n",
    "\n",
    "Les données du fichier <b> ntsb-accidents.csv </b> proviennent d'une base de données sur les accidents d’aviation provenant du <a href = https://carol.ntsb.gov> National Transportation Safety Board </a>. Nous nous en inspirerons pour le travail des TPs de cette session.\n",
    "\n",
    "Les champs du fichier de données <b> ntsb-accidents.csv </b> sont les suivants :\n",
    "\n",
    "- **event_id** : Identifiant unique de l'événement (souvent un code de référence pour suivre chaque cas).\n",
    "- **ntsb_make** : Fabricant de l'appareil impliqué dans l'événement (exemple : BELL, ROBINSON).\n",
    "- **ntsb_model** : Modèle spécifique de l'appareil (exemple : R22 BETA, R44).\n",
    "- **ntsb_number** : Code d'identification de l'incident assigné par la NTSB.\n",
    "- **year** : Année où l'événement a eu lieu.\n",
    "- **date** : Date et heure exactes de l'événement (année/mois/jour heure:minute:seconde).\n",
    "- **city** : Ville où l'événement s'est produit.\n",
    "- **state** : État ou province où l'événement s'est produit.\n",
    "- **country** : Pays où l'événement a eu lieu.\n",
    "- **total_fatalities** : Nombre total de décès associés à l'incident.\n",
    "- **latimes_make** : Fabricant simplifié utilisé dans les rapports (exemple : BELL, ROBINSON).\n",
    "- **latimes_model** : Modèle simplifié utilisé dans les rapports (exemple : R22, 369).\n",
    "- **latimes_make_and_model** : Combinaison du fabricant et du modèle pour décrire l'appareil de manière concise (exemple : BELL 407, ROBINSON R44).\n",
    "\n"
   ]
  },
  {
   "cell_type": "markdown",
   "metadata": {
    "id": "jSAmD2Iuuxds"
   },
   "source": [
    "Les librairies python qui seront à utiliser pour ce TP sont les suivantes:\n",
    "- [pandas](https://pandas.pydata.org/docs/user_guide/index.html)\n",
    "- [matplotlib](https://matplotlib.org/stable/users/explain/quick_start.html)\n",
    "\n",
    "\n"
   ]
  },
  {
   "cell_type": "code",
   "execution_count": 2,
   "metadata": {
    "ExecuteTime": {
     "end_time": "2025-01-18T21:25:13.592506600Z",
     "start_time": "2025-01-18T21:25:13.586609600Z"
    },
    "id": "Yowt8NL4v29E"
   },
   "outputs": [],
   "source": [
    "import pandas as pd"
   ]
  },
  {
   "cell_type": "markdown",
   "metadata": {
    "id": "6zP9EwsKve8l"
   },
   "source": [
    "## 1. Analyse des données numériques\n",
    "\n",
    "\n",
    "### Q1\n",
    "À l'aide de Pandas, chargez les données dans une variable nommée 'df'. Quelle est la dimension de 'df'? Combien y a-t-il de lignes et de colonnes? <b>(2 points)</b>"
   ]
  },
  {
   "cell_type": "code",
   "execution_count": 3,
   "metadata": {
    "ExecuteTime": {
     "end_time": "2025-01-18T21:28:03.915107400Z",
     "start_time": "2025-01-18T21:28:03.893185300Z"
    },
    "colab": {
     "base_uri": "https://localhost:8080/",
     "height": 597
    },
    "id": "6JJzhtUMyzuC",
    "outputId": "c971e578-3b35-4555-d08f-7df41a83794f"
   },
   "outputs": [],
   "source": [
    "#TODO: Chargement et affichage de df\n",
    "df = pd.read_csv('ntsb-accidents.csv') "
   ]
  },
  {
   "cell_type": "code",
   "execution_count": 131,
   "metadata": {
    "ExecuteTime": {
     "end_time": "2025-01-20T19:24:32.402717200Z",
     "start_time": "2025-01-20T19:24:32.380402100Z"
    },
    "colab": {
     "base_uri": "https://localhost:8080/"
    },
    "id": "RRr24fyJsmzX",
    "outputId": "795df170-be7b-47cd-d23d-d7459369a841"
   },
   "outputs": [
    {
     "name": "stdout",
     "output_type": "stream",
     "text": [
      "la dimension de df : (163, 13) \n",
      "nombre de lignes : 163 \n",
      "nombre de colonnes : 13\n"
     ]
    }
   ],
   "source": [
    "#TODO: Complétez ce code afin d'afficher les bonnes informations dans les \"print\".\n",
    "\n",
    "print(f'la dimension de df : {df.shape} \\n'\n",
    "      f'nombre de lignes : {len(df)} \\n'\n",
    "      f'nombre de colonnes : {len(df.columns)}')\n",
    "\n"
   ]
  },
  {
   "cell_type": "markdown",
   "metadata": {
    "id": "gyXbJPKzyDbw"
   },
   "source": [
    "### Q2\n",
    "Quelle est l'intervalle d'années et l'ensemble des fabricants et modèles d'hélicoptères compris dans le jeu de données?<b>(1 point)</b>"
   ]
  },
  {
   "cell_type": "code",
   "execution_count": 132,
   "metadata": {
    "ExecuteTime": {
     "end_time": "2025-01-20T19:24:48.761421600Z",
     "start_time": "2025-01-20T19:24:48.745240100Z"
    },
    "colab": {
     "base_uri": "https://localhost:8080/"
    },
    "id": "BwUGtes-v0n0",
    "outputId": "268da871-7e35-4f88-a414-44775837486f"
   },
   "outputs": [
    {
     "name": "stdout",
     "output_type": "stream",
     "text": [
      "intervalle d'année [2006  , 2016] \n",
      "ensemble des fabricants : {'SCHWEIZER', 'AIRBUS', 'MCDONNELL DOUGLAS HELICOPTER', 'EUROCOPTER DEUTSCHLAND GMBH', 'EUROCOPTER', 'BELL HELICOPTER', 'EUROCOPTER FRANCE', 'MCDONNELL DOUGLAS HELI CO', 'BELL HELICOPTER TEXTRON CANADA', 'ROBINSON HELICOPTER COMPANY', 'ROBINSON HELICOPTER', 'AIRBUS HELICOPTERS (EUROCOPTE', 'AMERICAN EUROCOPTER LLC', 'SIKORSKY', 'AEROSPATIALE', 'AIRBUS HELICOPTERS', 'BELL', 'ROBINSON', 'AMERICAN EUROCOPTER CORP', 'MCDONNELL DOUGLAS', 'BELL HELICOPTER TEXTRON', 'HUGHES', 'MD HELICOPTERS INC', 'AGUSTA SPA', 'AIRBUS HELICOPTERS INC'}\n",
      "ensemble des modèles : {'206', '407', '206L1', 'S-76C', '206L 1', '369', 'AS-350-D', '206L-3', 'R-44', 'AS350', 'AS 350 B3', 'R44', 'AS 350 BA', '206B', 'S-76A++', 'EC 135 T2+', 'R22 BETA II', '369D', 'EC 135 P2', 'R22', '369E', 'R44 II', 'AS350-B2', 'A109E', 'R22 BETA', 'EC135', 'AS350B3', 'AS350 B2', 'EC-130-B4', '206L-4', '369FF', '369A', '269C 1', 'EC-135P1', 'AS-350-B3', 'AS-350', '269C', 'AS350BA', 'AS350B2', '269 C-1', 'AS350B', '269C-1', 'AS 350 B2', 'AS350B3E', '206 L4', '206 L-1', '206-L4', '206L-1', '206L 3', '369D/500D', '206A', '369F', 'R44 RAVEN II'}\n"
     ]
    }
   ],
   "source": [
    "#TODO:\n",
    "print(f\"intervalle d'année [{min(df['year'])}  , {max(df['year'])}] \")\n",
    "fabricant = set(df['ntsb_model'])\n",
    "print(f\"ensemble des fabricants : {set(df['ntsb_make'])}\")\n",
    "print(f\"ensemble des modèles : {set(df['ntsb_model'])}\")\n",
    "\n"
   ]
  },
  {
   "cell_type": "markdown",
   "metadata": {
    "id": "arqXC2AS-YwE"
   },
   "source": [
    "### Q3\n",
    "Combien de décès y a-t-il en moyenne? <b>(1 point)</b>"
   ]
  },
  {
   "cell_type": "code",
   "execution_count": 20,
   "metadata": {
    "ExecuteTime": {
     "end_time": "2025-01-18T21:48:24.077683600Z",
     "start_time": "2025-01-18T21:48:24.066880200Z"
    },
    "colab": {
     "base_uri": "https://localhost:8080/"
    },
    "id": "w6vAYZ9I-YwF",
    "outputId": "dea4e3e0-70b9-4a0b-f0a8-da6eb8326bcd"
   },
   "outputs": [
    {
     "name": "stdout",
     "output_type": "stream",
     "text": [
      "nombre moyen de décès 2.061\n"
     ]
    }
   ],
   "source": [
    "#TODO:\n",
    "print(f\"nombre moyen de décès {round(df['total_fatalities'].mean() ,3) }\")\n"
   ]
  },
  {
   "cell_type": "markdown",
   "metadata": {
    "id": "hATy_JNm0kQH"
   },
   "source": [
    "### Q4\n",
    "Combien d'**accidents** y a-t-il eu pour chaque combinaison de fabricant et modèle d'hélicoptère? Créez un tableau de fréquence du nombre d'accidents par combinaison de fabricant et modèle.  <b>(3 points)</b>\n"
   ]
  },
  {
   "cell_type": "code",
   "execution_count": 27,
   "metadata": {
    "ExecuteTime": {
     "end_time": "2025-01-18T22:14:50.932518800Z",
     "start_time": "2025-01-18T22:14:50.916164Z"
    },
    "colab": {
     "base_uri": "https://localhost:8080/"
    },
    "id": "fu8P0Y8m37B-",
    "outputId": "ec64fabb-c25a-4666-b741-135fc5b26f96"
   },
   "outputs": [
    {
     "data": {
      "text/html": [
       "<div>\n",
       "<style scoped>\n",
       "    .dataframe tbody tr th:only-of-type {\n",
       "        vertical-align: middle;\n",
       "    }\n",
       "\n",
       "    .dataframe tbody tr th {\n",
       "        vertical-align: top;\n",
       "    }\n",
       "\n",
       "    .dataframe thead th {\n",
       "        text-align: right;\n",
       "    }\n",
       "</style>\n",
       "<table border=\"1\" class=\"dataframe\">\n",
       "  <thead>\n",
       "    <tr style=\"text-align: right;\">\n",
       "      <th></th>\n",
       "      <th>ntsb_make</th>\n",
       "      <th>ntsb_model</th>\n",
       "      <th>accident_count</th>\n",
       "    </tr>\n",
       "  </thead>\n",
       "  <tbody>\n",
       "    <tr>\n",
       "      <th>0</th>\n",
       "      <td>AEROSPATIALE</td>\n",
       "      <td>AS-350-D</td>\n",
       "      <td>1</td>\n",
       "    </tr>\n",
       "    <tr>\n",
       "      <th>1</th>\n",
       "      <td>AEROSPATIALE</td>\n",
       "      <td>AS350</td>\n",
       "      <td>1</td>\n",
       "    </tr>\n",
       "    <tr>\n",
       "      <th>2</th>\n",
       "      <td>AEROSPATIALE</td>\n",
       "      <td>AS350B</td>\n",
       "      <td>1</td>\n",
       "    </tr>\n",
       "    <tr>\n",
       "      <th>3</th>\n",
       "      <td>AEROSPATIALE</td>\n",
       "      <td>AS350BA</td>\n",
       "      <td>2</td>\n",
       "    </tr>\n",
       "    <tr>\n",
       "      <th>4</th>\n",
       "      <td>AGUSTA SPA</td>\n",
       "      <td>A109E</td>\n",
       "      <td>2</td>\n",
       "    </tr>\n",
       "    <tr>\n",
       "      <th>...</th>\n",
       "      <td>...</td>\n",
       "      <td>...</td>\n",
       "      <td>...</td>\n",
       "    </tr>\n",
       "    <tr>\n",
       "      <th>66</th>\n",
       "      <td>SCHWEIZER</td>\n",
       "      <td>269C</td>\n",
       "      <td>1</td>\n",
       "    </tr>\n",
       "    <tr>\n",
       "      <th>67</th>\n",
       "      <td>SCHWEIZER</td>\n",
       "      <td>269C 1</td>\n",
       "      <td>1</td>\n",
       "    </tr>\n",
       "    <tr>\n",
       "      <th>68</th>\n",
       "      <td>SCHWEIZER</td>\n",
       "      <td>269C-1</td>\n",
       "      <td>2</td>\n",
       "    </tr>\n",
       "    <tr>\n",
       "      <th>69</th>\n",
       "      <td>SIKORSKY</td>\n",
       "      <td>S-76A++</td>\n",
       "      <td>1</td>\n",
       "    </tr>\n",
       "    <tr>\n",
       "      <th>70</th>\n",
       "      <td>SIKORSKY</td>\n",
       "      <td>S-76C</td>\n",
       "      <td>1</td>\n",
       "    </tr>\n",
       "  </tbody>\n",
       "</table>\n",
       "<p>71 rows × 3 columns</p>\n",
       "</div>"
      ],
      "text/plain": [
       "       ntsb_make ntsb_model  accident_count\n",
       "0   AEROSPATIALE   AS-350-D               1\n",
       "1   AEROSPATIALE      AS350               1\n",
       "2   AEROSPATIALE     AS350B               1\n",
       "3   AEROSPATIALE    AS350BA               2\n",
       "4     AGUSTA SPA      A109E               2\n",
       "..           ...        ...             ...\n",
       "66     SCHWEIZER       269C               1\n",
       "67     SCHWEIZER     269C 1               1\n",
       "68     SCHWEIZER     269C-1               2\n",
       "69      SIKORSKY    S-76A++               1\n",
       "70      SIKORSKY      S-76C               1\n",
       "\n",
       "[71 rows x 3 columns]"
      ]
     },
     "execution_count": 27,
     "metadata": {},
     "output_type": "execute_result"
    }
   ],
   "source": [
    "#TODO:\n",
    "df.groupby(['ntsb_make', 'ntsb_model']).size().reset_index(name='accident_count')"
   ]
  },
  {
   "cell_type": "markdown",
   "metadata": {
    "id": "24Ca2hNYFu6u"
   },
   "source": [
    "### Q5\n",
    "Déterminez la moyenne, la médiane et l'écart-type du nombre de décès. Dans un premier temps, fournissez les statistiques avec AIRBUS 350.  Puis, dans un second temps, fournissez les statistiques avec ROBINSON R44.<b>(3 points)</b>"
   ]
  },
  {
   "cell_type": "code",
   "execution_count": 138,
   "metadata": {
    "ExecuteTime": {
     "end_time": "2025-01-20T20:08:47.714767200Z",
     "start_time": "2025-01-20T20:08:47.676827600Z"
    },
    "colab": {
     "base_uri": "https://localhost:8080/"
    },
    "id": "LDXMzCZH_Zyu",
    "outputId": "9d584485-fa19-485f-8302-9dbca9f1b427"
   },
   "outputs": [
    {
     "name": "stdout",
     "output_type": "stream",
     "text": [
      "Avec AIRBUS 350 : \n",
      "moyenne : 2.793 médiane : 3.0 écart type : 1.634 \n",
      " \n",
      "Avec ROBINSON R44 : \n",
      "moyenne : 1.868 médiane : 2.0 écart type : 0.906\n"
     ]
    }
   ],
   "source": [
    "# Calcul des statistiques pour AIRBUS 350\n",
    "airbus_deaths = df[df['latimes_make_and_model'] == 'AIRBUS 350']['total_fatalities']\n",
    "\n",
    "print(f\"Avec AIRBUS 350 : \\n\"\n",
    "      f\"moyenne : {round(airbus_deaths.mean() , 3) } \"\n",
    "      f\"médiane : {airbus_deaths.median()} \"\n",
    "      f\"écart type : {round(airbus_deaths.std(), 3) } \\n \")\n",
    "\n",
    "# Calcul des statistiques pour ROBINSON R44\n",
    "robinson_deaths = df[df['latimes_make_and_model'] == 'ROBINSON R44']['total_fatalities']\n",
    "\n",
    "print(f\"Avec ROBINSON R44 : \\n\"\n",
    "      f\"moyenne : {round(robinson_deaths.mean(), 3) } \"\n",
    "      f\"médiane : {robinson_deaths.median()} \"\n",
    "      f\"écart type : {round(robinson_deaths.std(),3) }\")"
   ]
  },
  {
   "cell_type": "markdown",
   "metadata": {
    "id": "NN-3hJmH5vU7"
   },
   "source": [
    "### Q6\n",
    "Combien d’accidents ont enregistré plus d’un décès?\n",
    "Combien de décès se sont produits en Californie en 2015? <b>(1 point)</b>"
   ]
  },
  {
   "cell_type": "code",
   "execution_count": 136,
   "metadata": {
    "ExecuteTime": {
     "end_time": "2025-01-20T20:06:31.248210600Z",
     "start_time": "2025-01-20T20:06:31.230910200Z"
    },
    "colab": {
     "base_uri": "https://localhost:8080/"
    },
    "id": "FQgpoppx8GOf",
    "outputId": "9f5557ed-6250-4813-abd4-3a1821453c5f"
   },
   "outputs": [
    {
     "name": "stdout",
     "output_type": "stream",
     "text": [
      " nombre d'accidents avec plus d'un décès : 89\n",
      " nombre de décès en californie en 2015: 6\n"
     ]
    }
   ],
   "source": [
    "#TODO:\n",
    "print(f\" nombre d'accidents avec plus d'un décès : {len(df[df['total_fatalities'] > 1 ])}\") \n",
    "print(f\" nombre de décès en californie en 2015: {df[(df['state'] == 'CA') & (df['year'] == 2015)]['total_fatalities'].sum()}\") "
   ]
  },
  {
   "cell_type": "markdown",
   "metadata": {
    "id": "Is2pL61E2cA9"
   },
   "source": [
    "## 2. Visualisation de données"
   ]
  },
  {
   "cell_type": "code",
   "execution_count": 137,
   "metadata": {
    "ExecuteTime": {
     "end_time": "2025-01-20T20:06:34.199835800Z",
     "start_time": "2025-01-20T20:06:34.189255300Z"
    },
    "id": "X_ZqXvKZ1-wB"
   },
   "outputs": [],
   "source": [
    "import matplotlib.pyplot as plt"
   ]
  },
  {
   "cell_type": "markdown",
   "metadata": {
    "id": "q2P0oK6KDBCh"
   },
   "source": [
    "### Q7\n",
    "Affichez le nombre de décès par année. Nommez vos axes et donnez un titre à votre graphique. Qu’observez-vous? Quelle année marque le plus de décès? Quelle année marque le moins?<b>(3 points)</b>"
   ]
  },
  {
   "cell_type": "code",
   "execution_count": 112,
   "metadata": {
    "ExecuteTime": {
     "end_time": "2025-01-20T19:00:27.783930600Z",
     "start_time": "2025-01-20T19:00:27.675302600Z"
    },
    "collapsed": false
   },
   "outputs": [
    {
     "data": {
      "image/png": "[encoded data removed]",
      "text/plain": [
       "<Figure size 640x480 with 1 Axes>"
      ]
     },
     "metadata": {},
     "output_type": "display_data"
    }
   ],
   "source": [
    "dec_annees = df.groupby('year')['total_fatalities'].sum()\n",
    "plt.plot(dec_annees.index ,  dec_annees.values)\n",
    "plt.xlabel('year')\n",
    "plt.ylabel('nombre de décès')\n",
    "plt.title('nombre de de décès par année')\n",
    "plt.grid(True)\n",
    "plt.show()\n"
   ]
  },
  {
   "cell_type": "markdown",
   "metadata": {
    "collapsed": false
   },
   "source": [
    "Il semble que le nombre de décès par année diminue progressivement, sûrement grâce à l'amélioration des normes de sécurité.L'année 2008 semble être la plus élevée en terme de décès. L'année 2016 semble être la moins élevée en terme de décès. "
   ]
  },
  {
   "cell_type": "markdown",
   "metadata": {
    "id": "9gr4L6CFH2pL"
   },
   "source": [
    "### Q8\n",
    "En utilisant la fonction subplot de matplotlib:\n",
    "\n",
    "1) Affichez le nombre d'accidents par année dans un diagramme à barres.\n",
    "\n",
    "2) Affichez le nombre de décès par année dans un diagramme à barres.\n",
    "\n",
    "Nommez vos axes et donnez un titre à votre graphique.\n",
    "En comparant ceux-ci, observez-vous une relation entre le nombre de décès et d'accidents? Pouvez-vous justifier la cause du nombre de décès minimal de l'année évoquée dans la question 7?  <b>(5 points)</b>"
   ]
  },
  {
   "cell_type": "code",
   "execution_count": 109,
   "metadata": {
    "ExecuteTime": {
     "end_time": "2025-01-20T18:59:03.617418200Z",
     "start_time": "2025-01-20T18:59:03.405582300Z"
    },
    "colab": {
     "base_uri": "https://localhost:8080/",
     "height": 607
    },
    "id": "e8zLBkxFK37A",
    "outputId": "f5a0df05-1cb6-4125-cace-d4540692c966"
   },
   "outputs": [
    {
     "data": {
      "image/png": "[encoded data removed]",
      "text/plain": [
       "<Figure size 1200x1000 with 2 Axes>"
      ]
     },
     "metadata": {},
     "output_type": "display_data"
    }
   ],
   "source": [
    "#TODO: Filtrez votre dataframe\n",
    "\n",
    "#TODO: Partie 1\n",
    "\n",
    "acc_annees = df.groupby(['year']).size()\n",
    "\n",
    "plt.figure(figsize=(12, 10))\n",
    "plt.subplot(2,1,1)\n",
    "\n",
    "plt.bar(acc_annees.index , acc_annees.values )\n",
    "plt.xlabel('année') \n",
    "plt.ylabel(\"nombre d'accidents\")\n",
    "plt.title(\"nombre d'accidents par année\")\n",
    "\n",
    "plt.subplot(2,1,2)\n",
    "plt.bar(dec_annees.index , dec_annees.values )\n",
    "plt.xlabel('année') \n",
    "plt.ylabel(\"nombre de décès\")\n",
    "plt.title(\"nombre de décès par année\")\n",
    "plt.show()\n",
    "#TODO: Partie 2\n",
    "\n"
   ]
  },
  {
   "cell_type": "markdown",
   "metadata": {
    "id": "0rT7_Mm0OIaD"
   },
   "source": [
    "## 3. LIVRABLES\n",
    "Vous devez remettre sur Moodle un fichier compressé .zip contenant :\n",
    "\n",
    "1) Le code : Un Jupyter notebook en Python qui contient le code tel implanté avec les librairies minimales demandées pour ce TP (Python, Pandas, Matplotlib). Le code doit être exécutable sans erreur et accompagné des commentaires appropriés dans le notebook de manière. Tous vos résultats doivent être reproductibles avec le code dans le notebook. *Attention, en aucun cas votre code ne doit avoir été copié de d'ailleurs.*\n",
    "\n",
    "2) Un fichier pdf représentant votre notebook complètement exécuté sous format pdf (obtenu via latex ou imprimé en pdf avec le navigateur). Assurez-vous que le PDF est entièrement lisible. [Tutoriel youtube](https://www.youtube.com/watch?v=-Ti9Mm21uVc)\n",
    "\n",
    "ATTENTION: assurez-vous que votre fichier compressé .zip ne dépasse pas la taille limite acceptée sur Moodle.\n"
   ]
  },
  {
   "cell_type": "markdown",
   "metadata": {
    "id": "JkxB1hfwRQw9"
   },
   "source": [
    "__ÉVALUATION__ <br>\n",
    "Votre TP sera évalué sur les points suivants :\n",
    "\n",
    "__Critères :__\n",
    "1. Implantation correcte et efficace\n",
    "2. Qualité du code (noms significatifs, structure, performance, gestion d’exception, etc.) <b>(1 point)</b>\n",
    "3. Réponses correctes/sensées aux questions de réflexion ou d'analyse\n",
    "\n",
    "__CODE D’HONNEUR__\n",
    "- __Règle 1__:  Le plagiat de code est bien évidemment interdit. Toute utilisation de code doit être référencée adéquatement. Vous __ne pouvez pas__ soumettre un code, écrit par quelqu’un d’autre. Dans le cas contraire, cela sera considéré comme du plagiat.\n",
    "- __Règle 2__: Vous êtes libres de discuter avec d'autres équipes. Cependant, vous ne pouvez en aucun cas incorporer leur code dans votre TP.\n",
    "- __Règle 3__:  Vous ne pouvez pas partager votre code publiquement (par exemple, dans un dépôt GitHub public) tant que le cours n'est pas fini."
   ]
  },
  {
   "cell_type": "markdown",
   "metadata": {
    "id": "6B9vE0FUSGFP"
   },
   "source": [
    "### Conversion en PDF sur Google Colab"
   ]
  },
  {
   "cell_type": "code",
   "execution_count": null,
   "metadata": {
    "id": "Iig7VzFFN11u"
   },
   "outputs": [],
   "source": [
    "%%capture\n",
    "!sudo apt-get install texlive-xetex texlive-fonts-recommended texlive-plain-generic"
   ]
  },
  {
   "cell_type": "markdown",
   "metadata": {
    "id": "tz0BpqmcU9ZA"
   },
   "source": [
    "Assurez vous d'avoir téléchargé le TP complété en notebook sur votre ordinateur, puis importé ce fichier dans le répertoire \"content\" avant de rouler la ligne suivante."
   ]
  },
  {
   "cell_type": "code",
   "execution_count": null,
   "metadata": {
    "id": "xLFzwcGIbjt1"
   },
   "outputs": [],
   "source": [
    "!jupyter nbconvert --to pdf /content/TP1.ipynb"
   ]
  }
 ],
 "metadata": {
  "colab": {
   "provenance": []
  },
  "kernelspec": {
   "display_name": "base",
   "language": "python",
   "name": "python3"
  },
  "language_info": {
   "codemirror_mode": {
    "name": "ipython",
    "version": 3
   },
   "file_extension": ".py",
   "mimetype": "text/x-python",
   "name": "python",
   "nbconvert_exporter": "python",
   "pygments_lexer": "ipython3",
   "version": "3.10.13"
  }
 },
 "nbformat": 4,
 "nbformat_minor": 0
}
